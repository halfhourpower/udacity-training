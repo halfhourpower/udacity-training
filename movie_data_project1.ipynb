{
 "cells": [
  {
   "cell_type": "markdown",
   "metadata": {},
   "source": [
    "\n",
    "# Project: Investigate the TMDb Movie Data Set.\n",
    "\n",
    "### This data set contains information about 10,000 movies collected from the movie database,including\n",
    "### adjusted budget and adjusted revenue - adjusted for 2010 dollars and accouting for inflation over time. \n",
    "\n",
    "\n",
    "## Table of Contents\n",
    "<ul>\n",
    "<li><a href=\"#intro\">Introduction</a></li>\n",
    "<li><a href=\"#wrangling\">Data Wrangling</a></li>\n",
    "<li><a href=\"#eda\">Exploratory Data Analysis</a></li>\n",
    "<li><a href=\"#conclusions\">Conclusions</a></li>\n",
    "</ul>"
   ]
  },
  {
   "cell_type": "markdown",
   "metadata": {},
   "source": [
    "<a id='intro'></a>\n",
    "## Introduction\n",
    "\n",
    "**I picked this data set as I have always had an interest in Movies and thought it would be a good chance to look at <br>\n",
    "all movies through out different decades.  An opportunity to look at how much it costs to make a movie, what is the revenue<br>\n",
    "and the most successful movies of all time.  The types of questions I would like to answer after looking at the data are the <br> following:**<br><br>\n",
    "* To start easy I would like to see the movie with highest and lowest profit.\n",
    "* I want to go by decades as I think this is where I can see the most change, if any.\n",
    "* What movie has the largest budget and what movie had largest profit for each decade\n",
    "* What genres are most popular for each decade?\n",
    "\n",
    "\n",
    "\n"
   ]
  },
  {
   "cell_type": "code",
   "execution_count": 1,
   "metadata": {},
   "outputs": [
    {
     "data": {
      "text/plain": [
       "('tmbd-movies.csv', <http.client.HTTPMessage at 0x18527f99308>)"
      ]
     },
     "execution_count": 1,
     "metadata": {},
     "output_type": "execute_result"
    }
   ],
   "source": [
    "\n",
    "import urllib.request #  import library to request and retrieve file from internet\n",
    "\n",
    "url= 'https://d17h27t6h515a5.cloudfront.net/topher/2017/October/59dd1c4c_tmdb-movies/tmdb-movies.csv'\n",
    "filename='tmbd-movies.csv'\n",
    "\n",
    "urllib.request.urlretrieve(url,filename) # retrieve the file and store on localdirectory as 'tmdb-movies.csv'\n",
    "\n"
   ]
  },
  {
   "cell_type": "markdown",
   "metadata": {},
   "source": [
    "<a id='wrangling'></a>\n",
    "## Data Wrangling\n",
    "\n",
    "In  this section I will loading necessary libraries and examine the data to see if all values are present, if there\n",
    "are any columns I can get rid of, how many observations I am dealing with and datatypes to see if they make sense.  \n",
    "\n"
   ]
  },
  {
   "cell_type": "code",
   "execution_count": 2,
   "metadata": {},
   "outputs": [],
   "source": [
    "# import necessary libraries\n",
    "import pandas as pd\n",
    "import numpy as np\n",
    "import matplotlib.pyplot as plt\n",
    "\n",
    "# this line allows the visualizations to show in the notebook\n",
    "%matplotlib inline"
   ]
  },
  {
   "cell_type": "code",
   "execution_count": 3,
   "metadata": {},
   "outputs": [],
   "source": [
    "#set options on dataframe so all columns are displayed\n",
    "pd.set_option('display.max_columns', None)  \n",
    "\n",
    "#store as float instead of scientific notation - easier to read\n",
    "pd.options.display.float_format = '{:.2f}'.format"
   ]
  },
  {
   "cell_type": "code",
   "execution_count": 4,
   "metadata": {},
   "outputs": [
    {
     "data": {
      "text/html": [
       "<div>\n",
       "<style scoped>\n",
       "    .dataframe tbody tr th:only-of-type {\n",
       "        vertical-align: middle;\n",
       "    }\n",
       "\n",
       "    .dataframe tbody tr th {\n",
       "        vertical-align: top;\n",
       "    }\n",
       "\n",
       "    .dataframe thead th {\n",
       "        text-align: right;\n",
       "    }\n",
       "</style>\n",
       "<table border=\"1\" class=\"dataframe\">\n",
       "  <thead>\n",
       "    <tr style=\"text-align: right;\">\n",
       "      <th></th>\n",
       "      <th>id</th>\n",
       "      <th>imdb_id</th>\n",
       "      <th>popularity</th>\n",
       "      <th>budget</th>\n",
       "      <th>revenue</th>\n",
       "      <th>original_title</th>\n",
       "      <th>cast</th>\n",
       "      <th>homepage</th>\n",
       "      <th>director</th>\n",
       "      <th>tagline</th>\n",
       "      <th>keywords</th>\n",
       "      <th>overview</th>\n",
       "      <th>runtime</th>\n",
       "      <th>genres</th>\n",
       "      <th>production_companies</th>\n",
       "      <th>release_date</th>\n",
       "      <th>vote_count</th>\n",
       "      <th>vote_average</th>\n",
       "      <th>release_year</th>\n",
       "      <th>budget_adj</th>\n",
       "      <th>revenue_adj</th>\n",
       "    </tr>\n",
       "  </thead>\n",
       "  <tbody>\n",
       "    <tr>\n",
       "      <td>0</td>\n",
       "      <td>135397</td>\n",
       "      <td>tt0369610</td>\n",
       "      <td>32.99</td>\n",
       "      <td>150000000</td>\n",
       "      <td>1513528810</td>\n",
       "      <td>Jurassic World</td>\n",
       "      <td>Chris Pratt|Bryce Dallas Howard|Irrfan Khan|Vi...</td>\n",
       "      <td>http://www.jurassicworld.com/</td>\n",
       "      <td>Colin Trevorrow</td>\n",
       "      <td>The park is open.</td>\n",
       "      <td>monster|dna|tyrannosaurus rex|velociraptor|island</td>\n",
       "      <td>Twenty-two years after the events of Jurassic ...</td>\n",
       "      <td>124</td>\n",
       "      <td>Action|Adventure|Science Fiction|Thriller</td>\n",
       "      <td>Universal Studios|Amblin Entertainment|Legenda...</td>\n",
       "      <td>6/9/15</td>\n",
       "      <td>5562</td>\n",
       "      <td>6.50</td>\n",
       "      <td>2015</td>\n",
       "      <td>137999939.28</td>\n",
       "      <td>1392445892.52</td>\n",
       "    </tr>\n",
       "  </tbody>\n",
       "</table>\n",
       "</div>"
      ],
      "text/plain": [
       "       id    imdb_id  popularity     budget     revenue  original_title  \\\n",
       "0  135397  tt0369610       32.99  150000000  1513528810  Jurassic World   \n",
       "\n",
       "                                                cast  \\\n",
       "0  Chris Pratt|Bryce Dallas Howard|Irrfan Khan|Vi...   \n",
       "\n",
       "                        homepage         director            tagline  \\\n",
       "0  http://www.jurassicworld.com/  Colin Trevorrow  The park is open.   \n",
       "\n",
       "                                            keywords  \\\n",
       "0  monster|dna|tyrannosaurus rex|velociraptor|island   \n",
       "\n",
       "                                            overview  runtime  \\\n",
       "0  Twenty-two years after the events of Jurassic ...      124   \n",
       "\n",
       "                                      genres  \\\n",
       "0  Action|Adventure|Science Fiction|Thriller   \n",
       "\n",
       "                                production_companies release_date  vote_count  \\\n",
       "0  Universal Studios|Amblin Entertainment|Legenda...       6/9/15        5562   \n",
       "\n",
       "   vote_average  release_year   budget_adj   revenue_adj  \n",
       "0          6.50          2015 137999939.28 1392445892.52  "
      ]
     },
     "execution_count": 4,
     "metadata": {},
     "output_type": "execute_result"
    }
   ],
   "source": [
    "df_movies = pd.read_csv(filename) # read the movie file and store in a dataframe\n",
    "\n",
    "df_movies.head(1) # examine first row to get a feel of the columns and meanings and what columns can be dropped"
   ]
  },
  {
   "cell_type": "code",
   "execution_count": 5,
   "metadata": {},
   "outputs": [
    {
     "data": {
      "text/plain": [
       "(10866, 21)"
      ]
     },
     "execution_count": 5,
     "metadata": {},
     "output_type": "execute_result"
    }
   ],
   "source": [
    "df_movies.shape #checking rows and column numbers"
   ]
  },
  {
   "cell_type": "code",
   "execution_count": 6,
   "metadata": {},
   "outputs": [
    {
     "data": {
      "text/html": [
       "<div>\n",
       "<style scoped>\n",
       "    .dataframe tbody tr th:only-of-type {\n",
       "        vertical-align: middle;\n",
       "    }\n",
       "\n",
       "    .dataframe tbody tr th {\n",
       "        vertical-align: top;\n",
       "    }\n",
       "\n",
       "    .dataframe thead th {\n",
       "        text-align: right;\n",
       "    }\n",
       "</style>\n",
       "<table border=\"1\" class=\"dataframe\">\n",
       "  <thead>\n",
       "    <tr style=\"text-align: right;\">\n",
       "      <th></th>\n",
       "      <th>popularity</th>\n",
       "      <th>budget</th>\n",
       "      <th>revenue</th>\n",
       "      <th>original_title</th>\n",
       "      <th>genres</th>\n",
       "      <th>vote_count</th>\n",
       "      <th>vote_average</th>\n",
       "      <th>release_year</th>\n",
       "      <th>budget_adj</th>\n",
       "      <th>revenue_adj</th>\n",
       "    </tr>\n",
       "  </thead>\n",
       "  <tbody>\n",
       "    <tr>\n",
       "      <td>0</td>\n",
       "      <td>32.99</td>\n",
       "      <td>150000000</td>\n",
       "      <td>1513528810</td>\n",
       "      <td>Jurassic World</td>\n",
       "      <td>Action|Adventure|Science Fiction|Thriller</td>\n",
       "      <td>5562</td>\n",
       "      <td>6.50</td>\n",
       "      <td>2015</td>\n",
       "      <td>137999939.28</td>\n",
       "      <td>1392445892.52</td>\n",
       "    </tr>\n",
       "    <tr>\n",
       "      <td>1</td>\n",
       "      <td>28.42</td>\n",
       "      <td>150000000</td>\n",
       "      <td>378436354</td>\n",
       "      <td>Mad Max: Fury Road</td>\n",
       "      <td>Action|Adventure|Science Fiction|Thriller</td>\n",
       "      <td>6185</td>\n",
       "      <td>7.10</td>\n",
       "      <td>2015</td>\n",
       "      <td>137999939.28</td>\n",
       "      <td>348161292.49</td>\n",
       "    </tr>\n",
       "    <tr>\n",
       "      <td>2</td>\n",
       "      <td>13.11</td>\n",
       "      <td>110000000</td>\n",
       "      <td>295238201</td>\n",
       "      <td>Insurgent</td>\n",
       "      <td>Adventure|Science Fiction|Thriller</td>\n",
       "      <td>2480</td>\n",
       "      <td>6.30</td>\n",
       "      <td>2015</td>\n",
       "      <td>101199955.47</td>\n",
       "      <td>271619025.41</td>\n",
       "    </tr>\n",
       "    <tr>\n",
       "      <td>3</td>\n",
       "      <td>11.17</td>\n",
       "      <td>200000000</td>\n",
       "      <td>2068178225</td>\n",
       "      <td>Star Wars: The Force Awakens</td>\n",
       "      <td>Action|Adventure|Science Fiction|Fantasy</td>\n",
       "      <td>5292</td>\n",
       "      <td>7.50</td>\n",
       "      <td>2015</td>\n",
       "      <td>183999919.04</td>\n",
       "      <td>1902723129.80</td>\n",
       "    </tr>\n",
       "    <tr>\n",
       "      <td>4</td>\n",
       "      <td>9.34</td>\n",
       "      <td>190000000</td>\n",
       "      <td>1506249360</td>\n",
       "      <td>Furious 7</td>\n",
       "      <td>Action|Crime|Thriller</td>\n",
       "      <td>2947</td>\n",
       "      <td>7.30</td>\n",
       "      <td>2015</td>\n",
       "      <td>174799923.09</td>\n",
       "      <td>1385748801.47</td>\n",
       "    </tr>\n",
       "  </tbody>\n",
       "</table>\n",
       "</div>"
      ],
      "text/plain": [
       "   popularity     budget     revenue                original_title  \\\n",
       "0       32.99  150000000  1513528810                Jurassic World   \n",
       "1       28.42  150000000   378436354            Mad Max: Fury Road   \n",
       "2       13.11  110000000   295238201                     Insurgent   \n",
       "3       11.17  200000000  2068178225  Star Wars: The Force Awakens   \n",
       "4        9.34  190000000  1506249360                     Furious 7   \n",
       "\n",
       "                                      genres  vote_count  vote_average  \\\n",
       "0  Action|Adventure|Science Fiction|Thriller        5562          6.50   \n",
       "1  Action|Adventure|Science Fiction|Thriller        6185          7.10   \n",
       "2         Adventure|Science Fiction|Thriller        2480          6.30   \n",
       "3   Action|Adventure|Science Fiction|Fantasy        5292          7.50   \n",
       "4                      Action|Crime|Thriller        2947          7.30   \n",
       "\n",
       "   release_year   budget_adj   revenue_adj  \n",
       "0          2015 137999939.28 1392445892.52  \n",
       "1          2015 137999939.28  348161292.49  \n",
       "2          2015 101199955.47  271619025.41  \n",
       "3          2015 183999919.04 1902723129.80  \n",
       "4          2015 174799923.09 1385748801.47  "
      ]
     },
     "execution_count": 6,
     "metadata": {},
     "output_type": "execute_result"
    }
   ],
   "source": [
    "#these columns will not be used in any analysis and therefore will be dropped  \n",
    "#I am only interested in the release year , which is why I am dropping the release_date. \n",
    "cols_to_be_dropped=['id','imdb_id','cast','homepage','tagline','keywords','overview','production_companies','release_date',\n",
    "                   'director','runtime']\n",
    "                   \n",
    "df_movies.drop(cols_to_be_dropped,axis =1,inplace=True)\n",
    "df_movies.head() #look at first 5 rows"
   ]
  },
  {
   "cell_type": "code",
   "execution_count": 7,
   "metadata": {},
   "outputs": [
    {
     "data": {
      "text/plain": [
       "(10866, 10)"
      ]
     },
     "execution_count": 7,
     "metadata": {},
     "output_type": "execute_result"
    }
   ],
   "source": [
    "df_movies.shape #confirming columns were dropped"
   ]
  },
  {
   "cell_type": "code",
   "execution_count": 8,
   "metadata": {},
   "outputs": [
    {
     "data": {
      "text/plain": [
       "popularity         0\n",
       "budget             0\n",
       "revenue            0\n",
       "original_title     0\n",
       "genres            23\n",
       "vote_count         0\n",
       "vote_average       0\n",
       "release_year       0\n",
       "budget_adj         0\n",
       "revenue_adj        0\n",
       "dtype: int64"
      ]
     },
     "execution_count": 8,
     "metadata": {},
     "output_type": "execute_result"
    }
   ],
   "source": [
    "df_movies.isnull().sum() # see if any columns have null values"
   ]
  },
  {
   "cell_type": "markdown",
   "metadata": {},
   "source": [
    "**Check for duplicate rows**"
   ]
  },
  {
   "cell_type": "code",
   "execution_count": 9,
   "metadata": {},
   "outputs": [
    {
     "data": {
      "text/plain": [
       "1"
      ]
     },
     "execution_count": 9,
     "metadata": {},
     "output_type": "execute_result"
    }
   ],
   "source": [
    "sum(df_movies.duplicated()) # 1 row is dupicated"
   ]
  },
  {
   "cell_type": "code",
   "execution_count": 10,
   "metadata": {},
   "outputs": [
    {
     "data": {
      "text/html": [
       "<div>\n",
       "<style scoped>\n",
       "    .dataframe tbody tr th:only-of-type {\n",
       "        vertical-align: middle;\n",
       "    }\n",
       "\n",
       "    .dataframe tbody tr th {\n",
       "        vertical-align: top;\n",
       "    }\n",
       "\n",
       "    .dataframe thead th {\n",
       "        text-align: right;\n",
       "    }\n",
       "</style>\n",
       "<table border=\"1\" class=\"dataframe\">\n",
       "  <thead>\n",
       "    <tr style=\"text-align: right;\">\n",
       "      <th></th>\n",
       "      <th>popularity</th>\n",
       "      <th>budget</th>\n",
       "      <th>revenue</th>\n",
       "      <th>original_title</th>\n",
       "      <th>genres</th>\n",
       "      <th>vote_count</th>\n",
       "      <th>vote_average</th>\n",
       "      <th>release_year</th>\n",
       "      <th>budget_adj</th>\n",
       "      <th>revenue_adj</th>\n",
       "    </tr>\n",
       "  </thead>\n",
       "  <tbody>\n",
       "    <tr>\n",
       "      <td>2089</td>\n",
       "      <td>0.60</td>\n",
       "      <td>30000000</td>\n",
       "      <td>967000</td>\n",
       "      <td>TEKKEN</td>\n",
       "      <td>Crime|Drama|Action|Thriller|Science Fiction</td>\n",
       "      <td>110</td>\n",
       "      <td>5.00</td>\n",
       "      <td>2010</td>\n",
       "      <td>30000000.00</td>\n",
       "      <td>967000.00</td>\n",
       "    </tr>\n",
       "    <tr>\n",
       "      <td>2090</td>\n",
       "      <td>0.60</td>\n",
       "      <td>30000000</td>\n",
       "      <td>967000</td>\n",
       "      <td>TEKKEN</td>\n",
       "      <td>Crime|Drama|Action|Thriller|Science Fiction</td>\n",
       "      <td>110</td>\n",
       "      <td>5.00</td>\n",
       "      <td>2010</td>\n",
       "      <td>30000000.00</td>\n",
       "      <td>967000.00</td>\n",
       "    </tr>\n",
       "  </tbody>\n",
       "</table>\n",
       "</div>"
      ],
      "text/plain": [
       "      popularity    budget  revenue original_title  \\\n",
       "2089        0.60  30000000   967000         TEKKEN   \n",
       "2090        0.60  30000000   967000         TEKKEN   \n",
       "\n",
       "                                           genres  vote_count  vote_average  \\\n",
       "2089  Crime|Drama|Action|Thriller|Science Fiction         110          5.00   \n",
       "2090  Crime|Drama|Action|Thriller|Science Fiction         110          5.00   \n",
       "\n",
       "      release_year  budget_adj  revenue_adj  \n",
       "2089          2010 30000000.00    967000.00  \n",
       "2090          2010 30000000.00    967000.00  "
      ]
     },
     "execution_count": 10,
     "metadata": {},
     "output_type": "execute_result"
    }
   ],
   "source": [
    "# query dataframe to show the duplicate row.\n",
    "dupeRows = df_movies.query('original_title == \"TEKKEN\"')\n",
    "dupeRows"
   ]
  },
  {
   "cell_type": "code",
   "execution_count": 11,
   "metadata": {},
   "outputs": [
    {
     "data": {
      "text/html": [
       "<div>\n",
       "<style scoped>\n",
       "    .dataframe tbody tr th:only-of-type {\n",
       "        vertical-align: middle;\n",
       "    }\n",
       "\n",
       "    .dataframe tbody tr th {\n",
       "        vertical-align: top;\n",
       "    }\n",
       "\n",
       "    .dataframe thead th {\n",
       "        text-align: right;\n",
       "    }\n",
       "</style>\n",
       "<table border=\"1\" class=\"dataframe\">\n",
       "  <thead>\n",
       "    <tr style=\"text-align: right;\">\n",
       "      <th></th>\n",
       "      <th>popularity</th>\n",
       "      <th>budget</th>\n",
       "      <th>revenue</th>\n",
       "      <th>original_title</th>\n",
       "      <th>genres</th>\n",
       "      <th>vote_count</th>\n",
       "      <th>vote_average</th>\n",
       "      <th>release_year</th>\n",
       "      <th>budget_adj</th>\n",
       "      <th>revenue_adj</th>\n",
       "    </tr>\n",
       "  </thead>\n",
       "  <tbody>\n",
       "    <tr>\n",
       "      <td>2090</td>\n",
       "      <td>0.60</td>\n",
       "      <td>30000000</td>\n",
       "      <td>967000</td>\n",
       "      <td>TEKKEN</td>\n",
       "      <td>Crime|Drama|Action|Thriller|Science Fiction</td>\n",
       "      <td>110</td>\n",
       "      <td>5.00</td>\n",
       "      <td>2010</td>\n",
       "      <td>30000000.00</td>\n",
       "      <td>967000.00</td>\n",
       "    </tr>\n",
       "  </tbody>\n",
       "</table>\n",
       "</div>"
      ],
      "text/plain": [
       "      popularity    budget  revenue original_title  \\\n",
       "2090        0.60  30000000   967000         TEKKEN   \n",
       "\n",
       "                                           genres  vote_count  vote_average  \\\n",
       "2090  Crime|Drama|Action|Thriller|Science Fiction         110          5.00   \n",
       "\n",
       "      release_year  budget_adj  revenue_adj  \n",
       "2090          2010 30000000.00    967000.00  "
      ]
     },
     "execution_count": 11,
     "metadata": {},
     "output_type": "execute_result"
    }
   ],
   "source": [
    "# two rows are duplicated.  I will drop the row with index 2089\n",
    "df_movies.drop(df_movies.index[2089],inplace=True)\n",
    "df_movies.query('original_title == \"TEKKEN\"') #confirm row was dropped"
   ]
  },
  {
   "cell_type": "markdown",
   "metadata": {},
   "source": [
    "**I noticed when looking at data before downloading, there were numerous 0's in the revenue and budget columns**<br>\n",
    "**as well as the adjusted columns.  I will replace the 0's with Nan and drop all those rows**"
   ]
  },
  {
   "cell_type": "code",
   "execution_count": 12,
   "metadata": {},
   "outputs": [
    {
     "data": {
      "text/plain": [
       "(3854, 10)"
      ]
     },
     "execution_count": 12,
     "metadata": {},
     "output_type": "execute_result"
    }
   ],
   "source": [
    "\n",
    "\n",
    "df_movies.replace(0,np.nan,inplace=True)#replacing 0's with nan to drop these rows with .dropna method\n",
    "\n",
    "\n",
    "df_movies.dropna(axis=0,how='any',inplace=True)\n",
    "df_movies.reset_index(drop=True,inplace=True)\n",
    "\n",
    "df_movies.shape #shows the new number of observations.  "
   ]
  },
  {
   "cell_type": "code",
   "execution_count": 13,
   "metadata": {},
   "outputs": [
    {
     "data": {
      "text/plain": [
       "popularity        0\n",
       "budget            0\n",
       "revenue           0\n",
       "original_title    0\n",
       "genres            0\n",
       "vote_count        0\n",
       "vote_average      0\n",
       "release_year      0\n",
       "budget_adj        0\n",
       "revenue_adj       0\n",
       "dtype: int64"
      ]
     },
     "execution_count": 13,
     "metadata": {},
     "output_type": "execute_result"
    }
   ],
   "source": [
    "df_movies.isnull().sum() #after dropping the rows with 0 dollars we have no more null values"
   ]
  },
  {
   "cell_type": "markdown",
   "metadata": {},
   "source": [
    "I dropped 7,292 rows.  This made sense since budgets or revenue with 0 are of no use in the analysis\n",
    "I had 10,866 rows before and now I have 3,574.  ALso, I have no more null values."
   ]
  },
  {
   "cell_type": "code",
   "execution_count": 14,
   "metadata": {
    "scrolled": true
   },
   "outputs": [
    {
     "data": {
      "text/html": [
       "<div>\n",
       "<style scoped>\n",
       "    .dataframe tbody tr th:only-of-type {\n",
       "        vertical-align: middle;\n",
       "    }\n",
       "\n",
       "    .dataframe tbody tr th {\n",
       "        vertical-align: top;\n",
       "    }\n",
       "\n",
       "    .dataframe thead th {\n",
       "        text-align: right;\n",
       "    }\n",
       "</style>\n",
       "<table border=\"1\" class=\"dataframe\">\n",
       "  <thead>\n",
       "    <tr style=\"text-align: right;\">\n",
       "      <th></th>\n",
       "      <th>popularity</th>\n",
       "      <th>budget</th>\n",
       "      <th>revenue</th>\n",
       "      <th>vote_count</th>\n",
       "      <th>vote_average</th>\n",
       "      <th>release_year</th>\n",
       "      <th>budget_adj</th>\n",
       "      <th>revenue_adj</th>\n",
       "    </tr>\n",
       "  </thead>\n",
       "  <tbody>\n",
       "    <tr>\n",
       "      <td>count</td>\n",
       "      <td>3854.00</td>\n",
       "      <td>3854.00</td>\n",
       "      <td>3854.00</td>\n",
       "      <td>3854.00</td>\n",
       "      <td>3854.00</td>\n",
       "      <td>3854.00</td>\n",
       "      <td>3854.00</td>\n",
       "      <td>3854.00</td>\n",
       "    </tr>\n",
       "    <tr>\n",
       "      <td>mean</td>\n",
       "      <td>1.19</td>\n",
       "      <td>37203696.95</td>\n",
       "      <td>107686616.10</td>\n",
       "      <td>527.72</td>\n",
       "      <td>6.17</td>\n",
       "      <td>2001.26</td>\n",
       "      <td>44239993.08</td>\n",
       "      <td>137064690.30</td>\n",
       "    </tr>\n",
       "    <tr>\n",
       "      <td>std</td>\n",
       "      <td>1.48</td>\n",
       "      <td>42208224.69</td>\n",
       "      <td>176539346.11</td>\n",
       "      <td>879.96</td>\n",
       "      <td>0.79</td>\n",
       "      <td>11.28</td>\n",
       "      <td>44809254.03</td>\n",
       "      <td>216111351.44</td>\n",
       "    </tr>\n",
       "    <tr>\n",
       "      <td>min</td>\n",
       "      <td>0.00</td>\n",
       "      <td>1.00</td>\n",
       "      <td>2.00</td>\n",
       "      <td>10.00</td>\n",
       "      <td>2.20</td>\n",
       "      <td>1960.00</td>\n",
       "      <td>0.97</td>\n",
       "      <td>2.37</td>\n",
       "    </tr>\n",
       "    <tr>\n",
       "      <td>25%</td>\n",
       "      <td>0.46</td>\n",
       "      <td>10000000.00</td>\n",
       "      <td>13600032.25</td>\n",
       "      <td>71.00</td>\n",
       "      <td>5.70</td>\n",
       "      <td>1995.00</td>\n",
       "      <td>13090528.47</td>\n",
       "      <td>18357350.36</td>\n",
       "    </tr>\n",
       "    <tr>\n",
       "      <td>50%</td>\n",
       "      <td>0.80</td>\n",
       "      <td>24000000.00</td>\n",
       "      <td>44800002.50</td>\n",
       "      <td>204.00</td>\n",
       "      <td>6.20</td>\n",
       "      <td>2004.00</td>\n",
       "      <td>30016111.91</td>\n",
       "      <td>61730679.08</td>\n",
       "    </tr>\n",
       "    <tr>\n",
       "      <td>75%</td>\n",
       "      <td>1.37</td>\n",
       "      <td>50000000.00</td>\n",
       "      <td>124212540.75</td>\n",
       "      <td>580.00</td>\n",
       "      <td>6.70</td>\n",
       "      <td>2010.00</td>\n",
       "      <td>60613069.68</td>\n",
       "      <td>163257654.56</td>\n",
       "    </tr>\n",
       "    <tr>\n",
       "      <td>max</td>\n",
       "      <td>32.99</td>\n",
       "      <td>425000000.00</td>\n",
       "      <td>2781505847.00</td>\n",
       "      <td>9767.00</td>\n",
       "      <td>8.40</td>\n",
       "      <td>2015.00</td>\n",
       "      <td>425000000.00</td>\n",
       "      <td>2827123750.41</td>\n",
       "    </tr>\n",
       "  </tbody>\n",
       "</table>\n",
       "</div>"
      ],
      "text/plain": [
       "       popularity       budget       revenue  vote_count  vote_average  \\\n",
       "count     3854.00      3854.00       3854.00     3854.00       3854.00   \n",
       "mean         1.19  37203696.95  107686616.10      527.72          6.17   \n",
       "std          1.48  42208224.69  176539346.11      879.96          0.79   \n",
       "min          0.00         1.00          2.00       10.00          2.20   \n",
       "25%          0.46  10000000.00   13600032.25       71.00          5.70   \n",
       "50%          0.80  24000000.00   44800002.50      204.00          6.20   \n",
       "75%          1.37  50000000.00  124212540.75      580.00          6.70   \n",
       "max         32.99 425000000.00 2781505847.00     9767.00          8.40   \n",
       "\n",
       "       release_year   budget_adj   revenue_adj  \n",
       "count       3854.00      3854.00       3854.00  \n",
       "mean        2001.26  44239993.08  137064690.30  \n",
       "std           11.28  44809254.03  216111351.44  \n",
       "min         1960.00         0.97          2.37  \n",
       "25%         1995.00  13090528.47   18357350.36  \n",
       "50%         2004.00  30016111.91   61730679.08  \n",
       "75%         2010.00  60613069.68  163257654.56  \n",
       "max         2015.00 425000000.00 2827123750.41  "
      ]
     },
     "execution_count": 14,
     "metadata": {},
     "output_type": "execute_result"
    }
   ],
   "source": [
    "df_movies.describe()# statistics -"
   ]
  },
  {
   "cell_type": "markdown",
   "metadata": {},
   "source": [
    " \n",
    "\n",
    "## Data Cleaning \n",
    "### I am now going to dig alittle deeper in this section:\n",
    "* creating a new dataframe to calculate profit\n",
    "* creating a new dataframe to separate out the genres\n",
    "  "
   ]
  },
  {
   "cell_type": "markdown",
   "metadata": {},
   "source": [
    "I am using the adj budget and adj revenue columns to calculate profit.  This will make the playing field<br>\n",
    "even for all decades as these two columns are in terms of 2010 dollars, accounting for inflation over time"
   ]
  },
  {
   "cell_type": "code",
   "execution_count": 15,
   "metadata": {
    "scrolled": true
   },
   "outputs": [
    {
     "name": "stderr",
     "output_type": "stream",
     "text": [
      "C:\\Users\\howar\\Anaconda3\\lib\\site-packages\\ipykernel_launcher.py:6: SettingWithCopyWarning: \n",
      "A value is trying to be set on a copy of a slice from a DataFrame.\n",
      "Try using .loc[row_indexer,col_indexer] = value instead\n",
      "\n",
      "See the caveats in the documentation: http://pandas.pydata.org/pandas-docs/stable/user_guide/indexing.html#returning-a-view-versus-a-copy\n",
      "  \n"
     ]
    }
   ],
   "source": [
    "#create a subset dataframe and add profit_adj as a column\n",
    "\n",
    "df_movies_profit= df_movies[['original_title','release_year','budget_adj','revenue_adj']]\n",
    "\n",
    "#subtract adjusted budget from adjusted revenue to determine adjusted profit.\n",
    "df_movies_profit['profit_adj']=df_movies_profit['revenue_adj'] - df_movies_profit['budget_adj']\n"
   ]
  },
  {
   "cell_type": "markdown",
   "metadata": {},
   "source": [
    "**Let's make the profit_adj more readable with commas.**"
   ]
  },
  {
   "cell_type": "code",
   "execution_count": 16,
   "metadata": {},
   "outputs": [
    {
     "name": "stderr",
     "output_type": "stream",
     "text": [
      "C:\\Users\\howar\\Anaconda3\\lib\\site-packages\\ipykernel_launcher.py:2: SettingWithCopyWarning: \n",
      "A value is trying to be set on a copy of a slice from a DataFrame.\n",
      "Try using .loc[row_indexer,col_indexer] = value instead\n",
      "\n",
      "See the caveats in the documentation: http://pandas.pydata.org/pandas-docs/stable/user_guide/indexing.html#returning-a-view-versus-a-copy\n",
      "  \n"
     ]
    },
    {
     "data": {
      "text/html": [
       "<div>\n",
       "<style scoped>\n",
       "    .dataframe tbody tr th:only-of-type {\n",
       "        vertical-align: middle;\n",
       "    }\n",
       "\n",
       "    .dataframe tbody tr th {\n",
       "        vertical-align: top;\n",
       "    }\n",
       "\n",
       "    .dataframe thead th {\n",
       "        text-align: right;\n",
       "    }\n",
       "</style>\n",
       "<table border=\"1\" class=\"dataframe\">\n",
       "  <thead>\n",
       "    <tr style=\"text-align: right;\">\n",
       "      <th></th>\n",
       "      <th>original_title</th>\n",
       "      <th>release_year</th>\n",
       "      <th>budget_adj</th>\n",
       "      <th>revenue_adj</th>\n",
       "      <th>profit_adj</th>\n",
       "    </tr>\n",
       "  </thead>\n",
       "  <tbody>\n",
       "    <tr>\n",
       "      <td>0</td>\n",
       "      <td>Jurassic World</td>\n",
       "      <td>2015</td>\n",
       "      <td>137999939.28</td>\n",
       "      <td>1392445892.52</td>\n",
       "      <td>1,254,445,953.24</td>\n",
       "    </tr>\n",
       "    <tr>\n",
       "      <td>1</td>\n",
       "      <td>Mad Max: Fury Road</td>\n",
       "      <td>2015</td>\n",
       "      <td>137999939.28</td>\n",
       "      <td>348161292.49</td>\n",
       "      <td>210,161,353.21</td>\n",
       "    </tr>\n",
       "    <tr>\n",
       "      <td>2</td>\n",
       "      <td>Insurgent</td>\n",
       "      <td>2015</td>\n",
       "      <td>101199955.47</td>\n",
       "      <td>271619025.41</td>\n",
       "      <td>170,419,069.94</td>\n",
       "    </tr>\n",
       "    <tr>\n",
       "      <td>3</td>\n",
       "      <td>Star Wars: The Force Awakens</td>\n",
       "      <td>2015</td>\n",
       "      <td>183999919.04</td>\n",
       "      <td>1902723129.80</td>\n",
       "      <td>1,718,723,210.76</td>\n",
       "    </tr>\n",
       "    <tr>\n",
       "      <td>4</td>\n",
       "      <td>Furious 7</td>\n",
       "      <td>2015</td>\n",
       "      <td>174799923.09</td>\n",
       "      <td>1385748801.47</td>\n",
       "      <td>1,210,948,878.38</td>\n",
       "    </tr>\n",
       "    <tr>\n",
       "      <td>...</td>\n",
       "      <td>...</td>\n",
       "      <td>...</td>\n",
       "      <td>...</td>\n",
       "      <td>...</td>\n",
       "      <td>...</td>\n",
       "    </tr>\n",
       "    <tr>\n",
       "      <td>3849</td>\n",
       "      <td>Who's Afraid of Virginia Woolf?</td>\n",
       "      <td>1966</td>\n",
       "      <td>50385110.19</td>\n",
       "      <td>226643572.37</td>\n",
       "      <td>176,258,462.18</td>\n",
       "    </tr>\n",
       "    <tr>\n",
       "      <td>3850</td>\n",
       "      <td>Torn Curtain</td>\n",
       "      <td>1966</td>\n",
       "      <td>20154044.08</td>\n",
       "      <td>87334191.00</td>\n",
       "      <td>67,180,146.92</td>\n",
       "    </tr>\n",
       "    <tr>\n",
       "      <td>3851</td>\n",
       "      <td>El Dorado</td>\n",
       "      <td>1966</td>\n",
       "      <td>31258922.36</td>\n",
       "      <td>40308088.15</td>\n",
       "      <td>9,049,165.79</td>\n",
       "    </tr>\n",
       "    <tr>\n",
       "      <td>3852</td>\n",
       "      <td>The Sand Pebbles</td>\n",
       "      <td>1966</td>\n",
       "      <td>80616176.31</td>\n",
       "      <td>134360293.85</td>\n",
       "      <td>53,744,117.54</td>\n",
       "    </tr>\n",
       "    <tr>\n",
       "      <td>3853</td>\n",
       "      <td>Fantastic Voyage</td>\n",
       "      <td>1966</td>\n",
       "      <td>34362645.15</td>\n",
       "      <td>80616176.31</td>\n",
       "      <td>46,253,531.16</td>\n",
       "    </tr>\n",
       "  </tbody>\n",
       "</table>\n",
       "<p>3854 rows × 5 columns</p>\n",
       "</div>"
      ],
      "text/plain": [
       "                       original_title  release_year   budget_adj  \\\n",
       "0                      Jurassic World          2015 137999939.28   \n",
       "1                  Mad Max: Fury Road          2015 137999939.28   \n",
       "2                           Insurgent          2015 101199955.47   \n",
       "3        Star Wars: The Force Awakens          2015 183999919.04   \n",
       "4                           Furious 7          2015 174799923.09   \n",
       "...                               ...           ...          ...   \n",
       "3849  Who's Afraid of Virginia Woolf?          1966  50385110.19   \n",
       "3850                     Torn Curtain          1966  20154044.08   \n",
       "3851                        El Dorado          1966  31258922.36   \n",
       "3852                 The Sand Pebbles          1966  80616176.31   \n",
       "3853                 Fantastic Voyage          1966  34362645.15   \n",
       "\n",
       "       revenue_adj        profit_adj  \n",
       "0    1392445892.52  1,254,445,953.24  \n",
       "1     348161292.49    210,161,353.21  \n",
       "2     271619025.41    170,419,069.94  \n",
       "3    1902723129.80  1,718,723,210.76  \n",
       "4    1385748801.47  1,210,948,878.38  \n",
       "...            ...               ...  \n",
       "3849  226643572.37    176,258,462.18  \n",
       "3850   87334191.00     67,180,146.92  \n",
       "3851   40308088.15      9,049,165.79  \n",
       "3852  134360293.85     53,744,117.54  \n",
       "3853   80616176.31     46,253,531.16  \n",
       "\n",
       "[3854 rows x 5 columns]"
      ]
     },
     "execution_count": 16,
     "metadata": {},
     "output_type": "execute_result"
    }
   ],
   "source": [
    "#format the profit_add column with appropriate commas for readability\n",
    "df_movies_profit['profit_adj'] = df_movies_profit['profit_adj'].apply('{:,.2f}'.format)\n",
    "df_movies_profit"
   ]
  },
  {
   "cell_type": "markdown",
   "metadata": {},
   "source": [
    "**Copying the movie dataframe into a new dataframe called df_movie_copy.  Splitting out the genres using \n",
    "this dataframe.**"
   ]
  },
  {
   "cell_type": "code",
   "execution_count": 17,
   "metadata": {},
   "outputs": [
    {
     "data": {
      "text/plain": [
       "(19270,)"
      ]
     },
     "execution_count": 17,
     "metadata": {},
     "output_type": "execute_result"
    }
   ],
   "source": [
    "df_movie_copy=df_movies.copy() # copy movie dataframe into a movie_copy df\n",
    "\n",
    "genres_split = df_movie_copy.genres.str.split('|',expand=True)#separate columns by | and put into dataframe\n",
    "pd.options.display.float_format='{:.2f}'.format\n",
    "\n",
    "#The split() put the genres into an array for each movie.  a movie can have 1 to 4 genres.  concate them\n",
    "#movie 1 might have animation and comedy.  MOvie 2 might have thriller, sci fi, action and adventure for example\n",
    "genres_concat = pd.concat([genres_split[0],genres_split[1],genres_split[2],genres_split[3],genres_split[4]])\n",
    "genres_concat.shape   #the number of genres associated with all the movies                        "
   ]
  },
  {
   "cell_type": "markdown",
   "metadata": {},
   "source": [
    "**Lets cut that number down and get only the unique genres**"
   ]
  },
  {
   "cell_type": "code",
   "execution_count": 18,
   "metadata": {},
   "outputs": [
    {
     "name": "stdout",
     "output_type": "stream",
     "text": [
      "['Action' 'Adventure' 'Western' 'Science Fiction' 'Drama' 'Family'\n",
      " 'Comedy' 'Crime' 'Romance' 'War' 'Thriller' 'Fantasy' 'History' 'Mystery'\n",
      " 'Animation' 'Horror' 'Music' 'Documentary' 'TV Movie' None 'Foreign']\n"
     ]
    }
   ],
   "source": [
    "genres_unique = genres_concat.unique()\n",
    "print(genres_unique)"
   ]
  },
  {
   "cell_type": "code",
   "execution_count": 19,
   "metadata": {},
   "outputs": [
    {
     "name": "stdout",
     "output_type": "stream",
     "text": [
      "['Action' 'Adventure' 'Western' 'Science Fiction' 'Drama' 'Family'\n",
      " 'Comedy' 'Crime' 'Romance' 'War' 'Thriller' 'Fantasy' 'History' 'Mystery'\n",
      " 'Animation' 'Horror' 'Music' 'Documentary' 'Foreign']\n"
     ]
    }
   ],
   "source": [
    "#drop tv movie and none\n",
    "movie_genres_final = np.delete(genres_unique,[18,19])\n",
    "print(movie_genres_final)"
   ]
  },
  {
   "cell_type": "code",
   "execution_count": 20,
   "metadata": {},
   "outputs": [
    {
     "data": {
      "text/plain": [
       "(19,)"
      ]
     },
     "execution_count": 20,
     "metadata": {},
     "output_type": "execute_result"
    }
   ],
   "source": [
    "movie_genres_final.shape #number of unique genres"
   ]
  },
  {
   "cell_type": "markdown",
   "metadata": {},
   "source": [
    "**creating a matrix filled with zeros.  this matrix will be used to keep track of all occurences of \n",
    "the unique genres for each movie.** "
   ]
  },
  {
   "cell_type": "code",
   "execution_count": 21,
   "metadata": {},
   "outputs": [
    {
     "data": {
      "text/plain": [
       "(3854, 19)"
      ]
     },
     "execution_count": 21,
     "metadata": {},
     "output_type": "execute_result"
    }
   ],
   "source": [
    "genres_matrix = np.zeros((len(df_movie_copy),len(movie_genres_final)))\n",
    "genres_matrix.shape # number of rows and columns- rows are number of rows of the movie database and columns are the genres."
   ]
  },
  {
   "cell_type": "markdown",
   "metadata": {},
   "source": [
    "**creating a dataframe from the matrix created above and the genres are the columns.**"
   ]
  },
  {
   "cell_type": "code",
   "execution_count": 22,
   "metadata": {},
   "outputs": [
    {
     "data": {
      "text/html": [
       "<div>\n",
       "<style scoped>\n",
       "    .dataframe tbody tr th:only-of-type {\n",
       "        vertical-align: middle;\n",
       "    }\n",
       "\n",
       "    .dataframe tbody tr th {\n",
       "        vertical-align: top;\n",
       "    }\n",
       "\n",
       "    .dataframe thead th {\n",
       "        text-align: right;\n",
       "    }\n",
       "</style>\n",
       "<table border=\"1\" class=\"dataframe\">\n",
       "  <thead>\n",
       "    <tr style=\"text-align: right;\">\n",
       "      <th></th>\n",
       "      <th>Action</th>\n",
       "      <th>Adventure</th>\n",
       "      <th>Western</th>\n",
       "      <th>Science Fiction</th>\n",
       "      <th>Drama</th>\n",
       "      <th>Family</th>\n",
       "      <th>Comedy</th>\n",
       "      <th>Crime</th>\n",
       "      <th>Romance</th>\n",
       "      <th>War</th>\n",
       "      <th>Thriller</th>\n",
       "      <th>Fantasy</th>\n",
       "      <th>History</th>\n",
       "      <th>Mystery</th>\n",
       "      <th>Animation</th>\n",
       "      <th>Horror</th>\n",
       "      <th>Music</th>\n",
       "      <th>Documentary</th>\n",
       "      <th>Foreign</th>\n",
       "    </tr>\n",
       "  </thead>\n",
       "  <tbody>\n",
       "    <tr>\n",
       "      <td>0</td>\n",
       "      <td>0.00</td>\n",
       "      <td>0.00</td>\n",
       "      <td>0.00</td>\n",
       "      <td>0.00</td>\n",
       "      <td>0.00</td>\n",
       "      <td>0.00</td>\n",
       "      <td>0.00</td>\n",
       "      <td>0.00</td>\n",
       "      <td>0.00</td>\n",
       "      <td>0.00</td>\n",
       "      <td>0.00</td>\n",
       "      <td>0.00</td>\n",
       "      <td>0.00</td>\n",
       "      <td>0.00</td>\n",
       "      <td>0.00</td>\n",
       "      <td>0.00</td>\n",
       "      <td>0.00</td>\n",
       "      <td>0.00</td>\n",
       "      <td>0.00</td>\n",
       "    </tr>\n",
       "    <tr>\n",
       "      <td>1</td>\n",
       "      <td>0.00</td>\n",
       "      <td>0.00</td>\n",
       "      <td>0.00</td>\n",
       "      <td>0.00</td>\n",
       "      <td>0.00</td>\n",
       "      <td>0.00</td>\n",
       "      <td>0.00</td>\n",
       "      <td>0.00</td>\n",
       "      <td>0.00</td>\n",
       "      <td>0.00</td>\n",
       "      <td>0.00</td>\n",
       "      <td>0.00</td>\n",
       "      <td>0.00</td>\n",
       "      <td>0.00</td>\n",
       "      <td>0.00</td>\n",
       "      <td>0.00</td>\n",
       "      <td>0.00</td>\n",
       "      <td>0.00</td>\n",
       "      <td>0.00</td>\n",
       "    </tr>\n",
       "  </tbody>\n",
       "</table>\n",
       "</div>"
      ],
      "text/plain": [
       "   Action  Adventure  Western  Science Fiction  Drama  Family  Comedy  Crime  \\\n",
       "0    0.00       0.00     0.00             0.00   0.00    0.00    0.00   0.00   \n",
       "1    0.00       0.00     0.00             0.00   0.00    0.00    0.00   0.00   \n",
       "\n",
       "   Romance  War  Thriller  Fantasy  History  Mystery  Animation  Horror  \\\n",
       "0     0.00 0.00      0.00     0.00     0.00     0.00       0.00    0.00   \n",
       "1     0.00 0.00      0.00     0.00     0.00     0.00       0.00    0.00   \n",
       "\n",
       "   Music  Documentary  Foreign  \n",
       "0   0.00         0.00     0.00  \n",
       "1   0.00         0.00     0.00  "
      ]
     },
     "execution_count": 22,
     "metadata": {},
     "output_type": "execute_result"
    }
   ],
   "source": [
    "movie_genres = pd.DataFrame(genres_matrix,columns=movie_genres_final)\n",
    "movie_genres.head(2)"
   ]
  },
  {
   "cell_type": "markdown",
   "metadata": {},
   "source": [
    "**changing 'original_title to 'movie' and moving it to the first column of dataframe**"
   ]
  },
  {
   "cell_type": "code",
   "execution_count": 23,
   "metadata": {},
   "outputs": [],
   "source": [
    "movie_genres.insert(0,'year',df_movie_copy['release_year'])# put movie as first column in dataframe"
   ]
  },
  {
   "cell_type": "code",
   "execution_count": 24,
   "metadata": {
    "scrolled": true
   },
   "outputs": [
    {
     "data": {
      "text/html": [
       "<div>\n",
       "<style scoped>\n",
       "    .dataframe tbody tr th:only-of-type {\n",
       "        vertical-align: middle;\n",
       "    }\n",
       "\n",
       "    .dataframe tbody tr th {\n",
       "        vertical-align: top;\n",
       "    }\n",
       "\n",
       "    .dataframe thead th {\n",
       "        text-align: right;\n",
       "    }\n",
       "</style>\n",
       "<table border=\"1\" class=\"dataframe\">\n",
       "  <thead>\n",
       "    <tr style=\"text-align: right;\">\n",
       "      <th></th>\n",
       "      <th>year</th>\n",
       "      <th>Action</th>\n",
       "      <th>Adventure</th>\n",
       "      <th>Western</th>\n",
       "      <th>Science Fiction</th>\n",
       "      <th>Drama</th>\n",
       "      <th>Family</th>\n",
       "      <th>Comedy</th>\n",
       "      <th>Crime</th>\n",
       "      <th>Romance</th>\n",
       "      <th>War</th>\n",
       "      <th>Thriller</th>\n",
       "      <th>Fantasy</th>\n",
       "      <th>History</th>\n",
       "      <th>Mystery</th>\n",
       "      <th>Animation</th>\n",
       "      <th>Horror</th>\n",
       "      <th>Music</th>\n",
       "      <th>Documentary</th>\n",
       "      <th>Foreign</th>\n",
       "    </tr>\n",
       "  </thead>\n",
       "  <tbody>\n",
       "    <tr>\n",
       "      <td>0</td>\n",
       "      <td>2015</td>\n",
       "      <td>0.00</td>\n",
       "      <td>0.00</td>\n",
       "      <td>0.00</td>\n",
       "      <td>0.00</td>\n",
       "      <td>0.00</td>\n",
       "      <td>0.00</td>\n",
       "      <td>0.00</td>\n",
       "      <td>0.00</td>\n",
       "      <td>0.00</td>\n",
       "      <td>0.00</td>\n",
       "      <td>0.00</td>\n",
       "      <td>0.00</td>\n",
       "      <td>0.00</td>\n",
       "      <td>0.00</td>\n",
       "      <td>0.00</td>\n",
       "      <td>0.00</td>\n",
       "      <td>0.00</td>\n",
       "      <td>0.00</td>\n",
       "      <td>0.00</td>\n",
       "    </tr>\n",
       "    <tr>\n",
       "      <td>1</td>\n",
       "      <td>2015</td>\n",
       "      <td>0.00</td>\n",
       "      <td>0.00</td>\n",
       "      <td>0.00</td>\n",
       "      <td>0.00</td>\n",
       "      <td>0.00</td>\n",
       "      <td>0.00</td>\n",
       "      <td>0.00</td>\n",
       "      <td>0.00</td>\n",
       "      <td>0.00</td>\n",
       "      <td>0.00</td>\n",
       "      <td>0.00</td>\n",
       "      <td>0.00</td>\n",
       "      <td>0.00</td>\n",
       "      <td>0.00</td>\n",
       "      <td>0.00</td>\n",
       "      <td>0.00</td>\n",
       "      <td>0.00</td>\n",
       "      <td>0.00</td>\n",
       "      <td>0.00</td>\n",
       "    </tr>\n",
       "  </tbody>\n",
       "</table>\n",
       "</div>"
      ],
      "text/plain": [
       "   year  Action  Adventure  Western  Science Fiction  Drama  Family  Comedy  \\\n",
       "0  2015    0.00       0.00     0.00             0.00   0.00    0.00    0.00   \n",
       "1  2015    0.00       0.00     0.00             0.00   0.00    0.00    0.00   \n",
       "\n",
       "   Crime  Romance  War  Thriller  Fantasy  History  Mystery  Animation  \\\n",
       "0   0.00     0.00 0.00      0.00     0.00     0.00     0.00       0.00   \n",
       "1   0.00     0.00 0.00      0.00     0.00     0.00     0.00       0.00   \n",
       "\n",
       "   Horror  Music  Documentary  Foreign  \n",
       "0    0.00   0.00         0.00     0.00  \n",
       "1    0.00   0.00         0.00     0.00  "
      ]
     },
     "execution_count": 24,
     "metadata": {},
     "output_type": "execute_result"
    }
   ],
   "source": [
    "movie_genres.head(2)#check columns to verify"
   ]
  },
  {
   "cell_type": "markdown",
   "metadata": {},
   "source": [
    "**making all columns lower case and replacing science fiction with science_fiction.  using _ instead**"
   ]
  },
  {
   "cell_type": "code",
   "execution_count": 25,
   "metadata": {},
   "outputs": [
    {
     "data": {
      "text/html": [
       "<div>\n",
       "<style scoped>\n",
       "    .dataframe tbody tr th:only-of-type {\n",
       "        vertical-align: middle;\n",
       "    }\n",
       "\n",
       "    .dataframe tbody tr th {\n",
       "        vertical-align: top;\n",
       "    }\n",
       "\n",
       "    .dataframe thead th {\n",
       "        text-align: right;\n",
       "    }\n",
       "</style>\n",
       "<table border=\"1\" class=\"dataframe\">\n",
       "  <thead>\n",
       "    <tr style=\"text-align: right;\">\n",
       "      <th></th>\n",
       "      <th>year</th>\n",
       "      <th>action</th>\n",
       "      <th>adventure</th>\n",
       "      <th>western</th>\n",
       "      <th>science_fiction</th>\n",
       "      <th>drama</th>\n",
       "      <th>family</th>\n",
       "      <th>comedy</th>\n",
       "      <th>crime</th>\n",
       "      <th>romance</th>\n",
       "      <th>war</th>\n",
       "      <th>thriller</th>\n",
       "      <th>fantasy</th>\n",
       "      <th>history</th>\n",
       "      <th>mystery</th>\n",
       "      <th>animation</th>\n",
       "      <th>horror</th>\n",
       "      <th>music</th>\n",
       "      <th>documentary</th>\n",
       "      <th>foreign</th>\n",
       "    </tr>\n",
       "  </thead>\n",
       "  <tbody>\n",
       "    <tr>\n",
       "      <td>0</td>\n",
       "      <td>2015</td>\n",
       "      <td>0.00</td>\n",
       "      <td>0.00</td>\n",
       "      <td>0.00</td>\n",
       "      <td>0.00</td>\n",
       "      <td>0.00</td>\n",
       "      <td>0.00</td>\n",
       "      <td>0.00</td>\n",
       "      <td>0.00</td>\n",
       "      <td>0.00</td>\n",
       "      <td>0.00</td>\n",
       "      <td>0.00</td>\n",
       "      <td>0.00</td>\n",
       "      <td>0.00</td>\n",
       "      <td>0.00</td>\n",
       "      <td>0.00</td>\n",
       "      <td>0.00</td>\n",
       "      <td>0.00</td>\n",
       "      <td>0.00</td>\n",
       "      <td>0.00</td>\n",
       "    </tr>\n",
       "  </tbody>\n",
       "</table>\n",
       "</div>"
      ],
      "text/plain": [
       "   year  action  adventure  western  science_fiction  drama  family  comedy  \\\n",
       "0  2015    0.00       0.00     0.00             0.00   0.00    0.00    0.00   \n",
       "\n",
       "   crime  romance  war  thriller  fantasy  history  mystery  animation  \\\n",
       "0   0.00     0.00 0.00      0.00     0.00     0.00     0.00       0.00   \n",
       "\n",
       "   horror  music  documentary  foreign  \n",
       "0    0.00   0.00         0.00     0.00  "
      ]
     },
     "execution_count": 25,
     "metadata": {},
     "output_type": "execute_result"
    }
   ],
   "source": [
    "#replace spaces with _ and convert to all lower case\n",
    "movie_genres.rename(columns=lambda x: x.strip().lower().replace(' ','_'),inplace=True)\n",
    "movie_genres.head(1)"
   ]
  },
  {
   "cell_type": "markdown",
   "metadata": {},
   "source": [
    "**split all genres and loaded into all_genres_split.  This is used to hold each movies genre as an array\n",
    "For example  jurassic park will have [Action,Adventure, science Fiction, Thriller]  I will then need to check\n",
    "each genre separately to see if it matches a column genre by indexing all_genres_split**"
   ]
  },
  {
   "cell_type": "code",
   "execution_count": 26,
   "metadata": {},
   "outputs": [
    {
     "data": {
      "text/plain": [
       "0       [Action, Adventure, Science Fiction, Thriller]\n",
       "1       [Action, Adventure, Science Fiction, Thriller]\n",
       "2               [Adventure, Science Fiction, Thriller]\n",
       "3        [Action, Adventure, Science Fiction, Fantasy]\n",
       "4                            [Action, Crime, Thriller]\n",
       "                             ...                      \n",
       "3849                                           [Drama]\n",
       "3850                               [Mystery, Thriller]\n",
       "3851                                 [Action, Western]\n",
       "3852          [Action, Adventure, Drama, War, Romance]\n",
       "3853                      [Adventure, Science Fiction]\n",
       "Name: genres, Length: 3854, dtype: object"
      ]
     },
     "execution_count": 26,
     "metadata": {},
     "output_type": "execute_result"
    }
   ],
   "source": [
    "\n",
    "all_genres_split = df_movie_copy.genres.str.split('|')\n",
    "\n",
    "all_genres_split"
   ]
  },
  {
   "cell_type": "markdown",
   "metadata": {},
   "source": [
    "**Going thru the whole movie database as outside loop.(3853 rows) then the inner loop is the lengh of the\n",
    "genres in the specific movie(so for jurassic world which is the firs movie that number will be 4(it could be from 1-4))\n",
    "the inner most loop grabs the columns for matching.**\n",
    "\n",
    "**check to see if genre matches the column genre for that movie\n",
    "note:  need to convert to lowercase and add the _ to science fiction instead of space.**\n",
    "\n",
    "**If there is a match the dataframe is update for that movie with a 1 in the matching column.  jurassic world will have 4 1's\n",
    "as seen below since that movie has all those genres**"
   ]
  },
  {
   "cell_type": "markdown",
   "metadata": {},
   "source": [
    "### Note:  I know this isn't the best way, but I wanted an accurate count and this is all I could think of to get it to work\n",
    "### Would love to see a better way.  For the number of rows its still pretty speedy."
   ]
  },
  {
   "cell_type": "code",
   "execution_count": 27,
   "metadata": {},
   "outputs": [],
   "source": [
    "for i in range(df_movie_copy.shape[0]):\n",
    "    for gen in range(len(all_genres_split[i])):\n",
    "        for genres in movie_genres.columns:\n",
    "            \n",
    "            if all_genres_split[i][gen].lower().replace(' ','_') == genres:\n",
    "               \n",
    "               movie_genres.loc[i,genres] = 1\n",
    "                \n",
    "\n"
   ]
  },
  {
   "cell_type": "code",
   "execution_count": 28,
   "metadata": {
    "scrolled": true
   },
   "outputs": [
    {
     "data": {
      "text/html": [
       "<div>\n",
       "<style scoped>\n",
       "    .dataframe tbody tr th:only-of-type {\n",
       "        vertical-align: middle;\n",
       "    }\n",
       "\n",
       "    .dataframe tbody tr th {\n",
       "        vertical-align: top;\n",
       "    }\n",
       "\n",
       "    .dataframe thead th {\n",
       "        text-align: right;\n",
       "    }\n",
       "</style>\n",
       "<table border=\"1\" class=\"dataframe\">\n",
       "  <thead>\n",
       "    <tr style=\"text-align: right;\">\n",
       "      <th></th>\n",
       "      <th>year</th>\n",
       "      <th>action</th>\n",
       "      <th>adventure</th>\n",
       "      <th>western</th>\n",
       "      <th>science_fiction</th>\n",
       "      <th>drama</th>\n",
       "      <th>family</th>\n",
       "      <th>comedy</th>\n",
       "      <th>crime</th>\n",
       "      <th>romance</th>\n",
       "      <th>war</th>\n",
       "      <th>thriller</th>\n",
       "      <th>fantasy</th>\n",
       "      <th>history</th>\n",
       "      <th>mystery</th>\n",
       "      <th>animation</th>\n",
       "      <th>horror</th>\n",
       "      <th>music</th>\n",
       "      <th>documentary</th>\n",
       "      <th>foreign</th>\n",
       "    </tr>\n",
       "  </thead>\n",
       "  <tbody>\n",
       "    <tr>\n",
       "      <td>0</td>\n",
       "      <td>2015</td>\n",
       "      <td>1.00</td>\n",
       "      <td>1.00</td>\n",
       "      <td>0.00</td>\n",
       "      <td>1.00</td>\n",
       "      <td>0.00</td>\n",
       "      <td>0.00</td>\n",
       "      <td>0.00</td>\n",
       "      <td>0.00</td>\n",
       "      <td>0.00</td>\n",
       "      <td>0.00</td>\n",
       "      <td>1.00</td>\n",
       "      <td>0.00</td>\n",
       "      <td>0.00</td>\n",
       "      <td>0.00</td>\n",
       "      <td>0.00</td>\n",
       "      <td>0.00</td>\n",
       "      <td>0.00</td>\n",
       "      <td>0.00</td>\n",
       "      <td>0.00</td>\n",
       "    </tr>\n",
       "    <tr>\n",
       "      <td>1</td>\n",
       "      <td>2015</td>\n",
       "      <td>1.00</td>\n",
       "      <td>1.00</td>\n",
       "      <td>0.00</td>\n",
       "      <td>1.00</td>\n",
       "      <td>0.00</td>\n",
       "      <td>0.00</td>\n",
       "      <td>0.00</td>\n",
       "      <td>0.00</td>\n",
       "      <td>0.00</td>\n",
       "      <td>0.00</td>\n",
       "      <td>1.00</td>\n",
       "      <td>0.00</td>\n",
       "      <td>0.00</td>\n",
       "      <td>0.00</td>\n",
       "      <td>0.00</td>\n",
       "      <td>0.00</td>\n",
       "      <td>0.00</td>\n",
       "      <td>0.00</td>\n",
       "      <td>0.00</td>\n",
       "    </tr>\n",
       "    <tr>\n",
       "      <td>2</td>\n",
       "      <td>2015</td>\n",
       "      <td>0.00</td>\n",
       "      <td>1.00</td>\n",
       "      <td>0.00</td>\n",
       "      <td>1.00</td>\n",
       "      <td>0.00</td>\n",
       "      <td>0.00</td>\n",
       "      <td>0.00</td>\n",
       "      <td>0.00</td>\n",
       "      <td>0.00</td>\n",
       "      <td>0.00</td>\n",
       "      <td>1.00</td>\n",
       "      <td>0.00</td>\n",
       "      <td>0.00</td>\n",
       "      <td>0.00</td>\n",
       "      <td>0.00</td>\n",
       "      <td>0.00</td>\n",
       "      <td>0.00</td>\n",
       "      <td>0.00</td>\n",
       "      <td>0.00</td>\n",
       "    </tr>\n",
       "    <tr>\n",
       "      <td>3</td>\n",
       "      <td>2015</td>\n",
       "      <td>1.00</td>\n",
       "      <td>1.00</td>\n",
       "      <td>0.00</td>\n",
       "      <td>1.00</td>\n",
       "      <td>0.00</td>\n",
       "      <td>0.00</td>\n",
       "      <td>0.00</td>\n",
       "      <td>0.00</td>\n",
       "      <td>0.00</td>\n",
       "      <td>0.00</td>\n",
       "      <td>0.00</td>\n",
       "      <td>1.00</td>\n",
       "      <td>0.00</td>\n",
       "      <td>0.00</td>\n",
       "      <td>0.00</td>\n",
       "      <td>0.00</td>\n",
       "      <td>0.00</td>\n",
       "      <td>0.00</td>\n",
       "      <td>0.00</td>\n",
       "    </tr>\n",
       "    <tr>\n",
       "      <td>4</td>\n",
       "      <td>2015</td>\n",
       "      <td>1.00</td>\n",
       "      <td>0.00</td>\n",
       "      <td>0.00</td>\n",
       "      <td>0.00</td>\n",
       "      <td>0.00</td>\n",
       "      <td>0.00</td>\n",
       "      <td>0.00</td>\n",
       "      <td>1.00</td>\n",
       "      <td>0.00</td>\n",
       "      <td>0.00</td>\n",
       "      <td>1.00</td>\n",
       "      <td>0.00</td>\n",
       "      <td>0.00</td>\n",
       "      <td>0.00</td>\n",
       "      <td>0.00</td>\n",
       "      <td>0.00</td>\n",
       "      <td>0.00</td>\n",
       "      <td>0.00</td>\n",
       "      <td>0.00</td>\n",
       "    </tr>\n",
       "  </tbody>\n",
       "</table>\n",
       "</div>"
      ],
      "text/plain": [
       "   year  action  adventure  western  science_fiction  drama  family  comedy  \\\n",
       "0  2015    1.00       1.00     0.00             1.00   0.00    0.00    0.00   \n",
       "1  2015    1.00       1.00     0.00             1.00   0.00    0.00    0.00   \n",
       "2  2015    0.00       1.00     0.00             1.00   0.00    0.00    0.00   \n",
       "3  2015    1.00       1.00     0.00             1.00   0.00    0.00    0.00   \n",
       "4  2015    1.00       0.00     0.00             0.00   0.00    0.00    0.00   \n",
       "\n",
       "   crime  romance  war  thriller  fantasy  history  mystery  animation  \\\n",
       "0   0.00     0.00 0.00      1.00     0.00     0.00     0.00       0.00   \n",
       "1   0.00     0.00 0.00      1.00     0.00     0.00     0.00       0.00   \n",
       "2   0.00     0.00 0.00      1.00     0.00     0.00     0.00       0.00   \n",
       "3   0.00     0.00 0.00      0.00     1.00     0.00     0.00       0.00   \n",
       "4   1.00     0.00 0.00      1.00     0.00     0.00     0.00       0.00   \n",
       "\n",
       "   horror  music  documentary  foreign  \n",
       "0    0.00   0.00         0.00     0.00  \n",
       "1    0.00   0.00         0.00     0.00  \n",
       "2    0.00   0.00         0.00     0.00  \n",
       "3    0.00   0.00         0.00     0.00  \n",
       "4    0.00   0.00         0.00     0.00  "
      ]
     },
     "execution_count": 28,
     "metadata": {},
     "output_type": "execute_result"
    }
   ],
   "source": [
    "movie_genres.head()"
   ]
  },
  {
   "cell_type": "markdown",
   "metadata": {},
   "source": [
    "<a id='eda'></a>\n",
    "## Exploratory Data Analysis\n",
    "\n",
    "\n",
    "\n",
    "###  - Determine highest and lowes profitable movies"
   ]
  },
  {
   "cell_type": "markdown",
   "metadata": {},
   "source": [
    "**movie with the lowest profit**"
   ]
  },
  {
   "cell_type": "code",
   "execution_count": 29,
   "metadata": {},
   "outputs": [
    {
     "data": {
      "text/html": [
       "<div>\n",
       "<style scoped>\n",
       "    .dataframe tbody tr th:only-of-type {\n",
       "        vertical-align: middle;\n",
       "    }\n",
       "\n",
       "    .dataframe tbody tr th {\n",
       "        vertical-align: top;\n",
       "    }\n",
       "\n",
       "    .dataframe thead th {\n",
       "        text-align: right;\n",
       "    }\n",
       "</style>\n",
       "<table border=\"1\" class=\"dataframe\">\n",
       "  <thead>\n",
       "    <tr style=\"text-align: right;\">\n",
       "      <th></th>\n",
       "      <th>original_title</th>\n",
       "      <th>release_year</th>\n",
       "      <th>budget_adj</th>\n",
       "      <th>revenue_adj</th>\n",
       "      <th>profit_adj</th>\n",
       "    </tr>\n",
       "  </thead>\n",
       "  <tbody>\n",
       "    <tr>\n",
       "      <td>3185</td>\n",
       "      <td>Center Stage</td>\n",
       "      <td>2000</td>\n",
       "      <td>22793258.06</td>\n",
       "      <td>21781395.69</td>\n",
       "      <td>-1,011,862.37</td>\n",
       "    </tr>\n",
       "  </tbody>\n",
       "</table>\n",
       "</div>"
      ],
      "text/plain": [
       "     original_title  release_year  budget_adj  revenue_adj     profit_adj\n",
       "3185   Center Stage          2000 22793258.06  21781395.69  -1,011,862.37"
      ]
     },
     "execution_count": 29,
     "metadata": {},
     "output_type": "execute_result"
    }
   ],
   "source": [
    "# movie with the lowest profit-  actually a loss.\n",
    "lowest_profit_movie=df_movies_profit['profit_adj'].min()\n",
    "df_movies_profit.query('profit_adj == @lowest_profit_movie')"
   ]
  },
  {
   "cell_type": "markdown",
   "metadata": {},
   "source": [
    "**what was 'Center Stage'  genre?**"
   ]
  },
  {
   "cell_type": "code",
   "execution_count": 30,
   "metadata": {},
   "outputs": [
    {
     "name": "stdout",
     "output_type": "stream",
     "text": [
      "Center Stage genres are  Drama|Music\n"
     ]
    }
   ],
   "source": [
    "movie_genre = df_movies.query('original_title == \"Center Stage\"')\n",
    "\n",
    "print('Center Stage genres are {}'.format(movie_genre['genres'].to_string(index=False))) # remove index when printing"
   ]
  },
  {
   "cell_type": "markdown",
   "metadata": {},
   "source": [
    "**movie with the highest profit.  Minion - Family, animation, adventure and comedy is definitely the ticket**"
   ]
  },
  {
   "cell_type": "code",
   "execution_count": 31,
   "metadata": {},
   "outputs": [
    {
     "data": {
      "text/html": [
       "<div>\n",
       "<style scoped>\n",
       "    .dataframe tbody tr th:only-of-type {\n",
       "        vertical-align: middle;\n",
       "    }\n",
       "\n",
       "    .dataframe tbody tr th {\n",
       "        vertical-align: top;\n",
       "    }\n",
       "\n",
       "    .dataframe thead th {\n",
       "        text-align: right;\n",
       "    }\n",
       "</style>\n",
       "<table border=\"1\" class=\"dataframe\">\n",
       "  <thead>\n",
       "    <tr style=\"text-align: right;\">\n",
       "      <th></th>\n",
       "      <th>original_title</th>\n",
       "      <th>release_year</th>\n",
       "      <th>budget_adj</th>\n",
       "      <th>revenue_adj</th>\n",
       "      <th>profit_adj</th>\n",
       "    </tr>\n",
       "  </thead>\n",
       "  <tbody>\n",
       "    <tr>\n",
       "      <td>8</td>\n",
       "      <td>Minions</td>\n",
       "      <td>2015</td>\n",
       "      <td>68079970.04</td>\n",
       "      <td>1064192016.80</td>\n",
       "      <td>996,112,046.75</td>\n",
       "    </tr>\n",
       "  </tbody>\n",
       "</table>\n",
       "</div>"
      ],
      "text/plain": [
       "  original_title  release_year  budget_adj   revenue_adj      profit_adj\n",
       "8        Minions          2015 68079970.04 1064192016.80  996,112,046.75"
      ]
     },
     "execution_count": 31,
     "metadata": {},
     "output_type": "execute_result"
    }
   ],
   "source": [
    "#movie with highest profit\n",
    "highest_profit_movie=df_movies_profit['profit_adj'].max()\n",
    "df_movies_profit.query('profit_adj == @highest_profit_movie')"
   ]
  },
  {
   "cell_type": "markdown",
   "metadata": {},
   "source": [
    "**what was Minions genre**"
   ]
  },
  {
   "cell_type": "code",
   "execution_count": 32,
   "metadata": {},
   "outputs": [
    {
     "name": "stdout",
     "output_type": "stream",
     "text": [
      "Minions genres are  Family|Animation|Adventure|Comedy\n"
     ]
    }
   ],
   "source": [
    "movie_genre = df_movies.query('original_title == \"Minions\"')\n",
    "\n",
    "print('Minions genres are {}'.format(movie_genre['genres'].to_string(index=False))) # remove index when printing"
   ]
  },
  {
   "cell_type": "code",
   "execution_count": 33,
   "metadata": {},
   "outputs": [
    {
     "name": "stderr",
     "output_type": "stream",
     "text": [
      "C:\\Users\\howar\\Anaconda3\\lib\\site-packages\\pandas\\core\\indexing.py:494: SettingWithCopyWarning: \n",
      "A value is trying to be set on a copy of a slice from a DataFrame.\n",
      "Try using .loc[row_indexer,col_indexer] = value instead\n",
      "\n",
      "See the caveats in the documentation: http://pandas.pydata.org/pandas-docs/stable/user_guide/indexing.html#returning-a-view-versus-a-copy\n",
      "  self.obj[item] = s\n"
     ]
    }
   ],
   "source": [
    "#subset popularity, vote_count release year budget_adj\n",
    "df_popularity = df_movies[['popularity','vote_count','release_year','revenue_adj','budget_adj']] \n",
    "df_popularity.loc[:,'release_year'] = pd.to_datetime(df_movies['release_year'],format='%Y')# convert to date format\n",
    "df_popularity.set_index(['release_year'],inplace=True) # set release_year as index to use wih matplotlib\n"
   ]
  },
  {
   "cell_type": "markdown",
   "metadata": {},
   "source": [
    "**get the total count of genres and sort descending to show in a histogram**"
   ]
  },
  {
   "cell_type": "code",
   "execution_count": 85,
   "metadata": {},
   "outputs": [
    {
     "data": {
      "text/plain": [
       "drama             1756.00\n",
       "comedy            1358.00\n",
       "thriller          1204.00\n",
       "action            1085.00\n",
       "adventure          749.00\n",
       "romance            667.00\n",
       "crime              651.00\n",
       "science_fiction    519.00\n",
       "horror             463.00\n",
       "family             425.00\n",
       "fantasy            396.00\n",
       "mystery            344.00\n",
       "animation          201.00\n",
       "music              136.00\n",
       "history            129.00\n",
       "war                119.00\n",
       "western             52.00\n",
       "documentary         35.00\n",
       "foreign             13.00\n",
       "dtype: float64"
      ]
     },
     "execution_count": 85,
     "metadata": {},
     "output_type": "execute_result"
    }
   ],
   "source": [
    "#get the genre count and sort descending\n",
    "genre_sum = movie_genres.loc[:,'action': 'foreign'].sum(axis=0).sort_values(ascending=False)\n",
    "genre_sum #verify\n"
   ]
  },
  {
   "cell_type": "markdown",
   "metadata": {},
   "source": [
    "**display a histogram of vote counts and a bar chart for genre counts side by side**"
   ]
  },
  {
   "cell_type": "code",
   "execution_count": 142,
   "metadata": {},
   "outputs": [
    {
     "data": {
      "image/png": "[encoded data removed]",
      "text/plain": [
       "<Figure size 576x288 with 2 Axes>"
      ]
     },
     "metadata": {
      "needs_background": "light"
     },
     "output_type": "display_data"
    }
   ],
   "source": [
    "fig, (ax1,ax2)=plt.subplots(1,2,figsize=(8,4))\n",
    "    \n",
    "    \n",
    "#format x and y coordinates\n",
    "ax1.hist(df_popularity['vote_count'],bins=5,color='red')\n",
    "\n",
    "#set xlabel to votes\n",
    "ax1.set_xlabel('VOTES')\n",
    "\n",
    "#set ylabel to observations\n",
    "ax1.set_ylabel('# of observations')\n",
    "\n",
    "#set title for ax1 axis\n",
    "ax1.set_title('Number of Votes')\n",
    "\n",
    "#format x and y coordinates second axis show a stepfilled histogram\n",
    "ax2.bar(genre_sum.index,genre_sum, color='green')\n",
    "\n",
    "#set the ax2 axis label to genres\n",
    "ax2.set_xlabel('Genres')\n",
    "\n",
    "#set the ax2 y axis to # of observations\n",
    "ax2.set_ylabel('# of observations')\n",
    "\n",
    "#set title for ax2 axis\n",
    "ax2.set_title('Genres Counts')\n",
    "\n",
    "#set the xticks with the genres\n",
    "ax2.set_xticklabels(genre_sum.index,rotation=90)\n",
    "\n",
    "fig.tight_layout()\n",
    "plt.show()"
   ]
  },
  {
   "cell_type": "markdown",
   "metadata": {},
   "source": [
    "**lets see how budget has changed over the years wich a scatter plot**"
   ]
  },
  {
   "cell_type": "code",
   "execution_count": 35,
   "metadata": {},
   "outputs": [
    {
     "data": {
      "image/png": "[encoded data removed]",
      "text/plain": [
       "<Figure size 432x288 with 1 Axes>"
      ]
     },
     "metadata": {
      "needs_background": "light"
     },
     "output_type": "display_data"
    }
   ],
   "source": [
    "fig,ax = plt.subplots()  # setup the figure and axis for plotting\n",
    "\n",
    "#plot the x and y axis as popularity\n",
    "ax.scatter(df_popularity.index.year, df_popularity['budget_adj'],color='red')\n",
    "\n",
    "# set x and y label\n",
    "ax.set_xlabel('Time(Years)')\n",
    "ax.set_ylabel('BUDGET')\n",
    "ax.set_title('Budgets over the years')\n",
    "plt.show()\n",
    "\n",
    "\n",
    "                      \n",
    "                      \n",
    "                      \n",
    "\n",
    "\n",
    "                      \n",
    "                      "
   ]
  },
  {
   "cell_type": "markdown",
   "metadata": {},
   "source": [
    "**we can see as a general rule the budgets have gone up over the years with a few outliers\n",
    "  surprising to see such outliers in the early sixties compared with the seventies to the nineties**"
   ]
  },
  {
   "cell_type": "markdown",
   "metadata": {},
   "source": [
    "# Lets go deeper and explore all movies by decades"
   ]
  },
  {
   "cell_type": "markdown",
   "metadata": {},
   "source": [
    "**this function -decadeMovies is a common function that pulls off each decade and converts year to \n",
    "  datetime format to be used with matplotlib. It takes the decade_name such as 'sixties_movies' as one argument\n",
    "  and the decade_min such as '1960' and the decade_max such as '1969' to be used in the query and returns\n",
    "  all the movies for the specific decade passes in to function**\n",
    "  "
   ]
  },
  {
   "cell_type": "code",
   "execution_count": 36,
   "metadata": {},
   "outputs": [],
   "source": [
    "def decadeMovies(decade_name, decade_min,decade_max):\n",
    "    \n",
    "    \n",
    "        decade_name = df_movies_profit.query('@decade_min <= release_year <= @decade_max')\n",
    "    \n",
    "        decade_name.loc[:,'release_year'] = pd.to_datetime(decade_name['release_year'],format='%Y')\n",
    "        decade_name.set_index(['release_year'],inplace=True)\n",
    "        return decade_name\n",
    "    \n",
    "    \n",
    "        \n",
    "        \n",
    "                                   \n",
    "                           \n",
    "                                                       \n",
    "    "
   ]
  },
  {
   "cell_type": "code",
   "execution_count": 37,
   "metadata": {},
   "outputs": [],
   "source": [
    "import matplotlib.pyplot as plt # import the plotting library\n",
    "%matplotlib inline "
   ]
  },
  {
   "cell_type": "markdown",
   "metadata": {},
   "source": [
    "**I added commas and periods to profit_adj for readable purposes  and now need to convert back to a float\n",
    "for use in matplotlib.  Using a regualr expression to get rid of anything not numeric and then\n",
    "convert to a float**"
   ]
  },
  {
   "cell_type": "code",
   "execution_count": 38,
   "metadata": {},
   "outputs": [
    {
     "name": "stderr",
     "output_type": "stream",
     "text": [
      "C:\\Users\\howar\\Anaconda3\\lib\\site-packages\\ipykernel_launcher.py:1: SettingWithCopyWarning: \n",
      "A value is trying to be set on a copy of a slice from a DataFrame.\n",
      "Try using .loc[row_indexer,col_indexer] = value instead\n",
      "\n",
      "See the caveats in the documentation: http://pandas.pydata.org/pandas-docs/stable/user_guide/indexing.html#returning-a-view-versus-a-copy\n",
      "  \"\"\"Entry point for launching an IPython kernel.\n"
     ]
    },
    {
     "data": {
      "text/html": [
       "<div>\n",
       "<style scoped>\n",
       "    .dataframe tbody tr th:only-of-type {\n",
       "        vertical-align: middle;\n",
       "    }\n",
       "\n",
       "    .dataframe tbody tr th {\n",
       "        vertical-align: top;\n",
       "    }\n",
       "\n",
       "    .dataframe thead th {\n",
       "        text-align: right;\n",
       "    }\n",
       "</style>\n",
       "<table border=\"1\" class=\"dataframe\">\n",
       "  <thead>\n",
       "    <tr style=\"text-align: right;\">\n",
       "      <th></th>\n",
       "      <th>original_title</th>\n",
       "      <th>release_year</th>\n",
       "      <th>budget_adj</th>\n",
       "      <th>revenue_adj</th>\n",
       "      <th>profit_adj</th>\n",
       "    </tr>\n",
       "  </thead>\n",
       "  <tbody>\n",
       "    <tr>\n",
       "      <td>0</td>\n",
       "      <td>Jurassic World</td>\n",
       "      <td>2015</td>\n",
       "      <td>137999939.28</td>\n",
       "      <td>1392445892.52</td>\n",
       "      <td>125444595324.00</td>\n",
       "    </tr>\n",
       "    <tr>\n",
       "      <td>1</td>\n",
       "      <td>Mad Max: Fury Road</td>\n",
       "      <td>2015</td>\n",
       "      <td>137999939.28</td>\n",
       "      <td>348161292.49</td>\n",
       "      <td>21016135321.00</td>\n",
       "    </tr>\n",
       "    <tr>\n",
       "      <td>2</td>\n",
       "      <td>Insurgent</td>\n",
       "      <td>2015</td>\n",
       "      <td>101199955.47</td>\n",
       "      <td>271619025.41</td>\n",
       "      <td>17041906994.00</td>\n",
       "    </tr>\n",
       "    <tr>\n",
       "      <td>3</td>\n",
       "      <td>Star Wars: The Force Awakens</td>\n",
       "      <td>2015</td>\n",
       "      <td>183999919.04</td>\n",
       "      <td>1902723129.80</td>\n",
       "      <td>171872321076.00</td>\n",
       "    </tr>\n",
       "    <tr>\n",
       "      <td>4</td>\n",
       "      <td>Furious 7</td>\n",
       "      <td>2015</td>\n",
       "      <td>174799923.09</td>\n",
       "      <td>1385748801.47</td>\n",
       "      <td>121094887838.00</td>\n",
       "    </tr>\n",
       "  </tbody>\n",
       "</table>\n",
       "</div>"
      ],
      "text/plain": [
       "                 original_title  release_year   budget_adj   revenue_adj  \\\n",
       "0                Jurassic World          2015 137999939.28 1392445892.52   \n",
       "1            Mad Max: Fury Road          2015 137999939.28  348161292.49   \n",
       "2                     Insurgent          2015 101199955.47  271619025.41   \n",
       "3  Star Wars: The Force Awakens          2015 183999919.04 1902723129.80   \n",
       "4                     Furious 7          2015 174799923.09 1385748801.47   \n",
       "\n",
       "       profit_adj  \n",
       "0 125444595324.00  \n",
       "1  21016135321.00  \n",
       "2  17041906994.00  \n",
       "3 171872321076.00  \n",
       "4 121094887838.00  "
      ]
     },
     "execution_count": 38,
     "metadata": {},
     "output_type": "execute_result"
    }
   ],
   "source": [
    "\n",
    "df_movies_profit['profit_adj']= df_movies_profit['profit_adj'].str.replace(r'\\D+', '').astype(float)\n",
    "df_movies_profit.head() # verify\n"
   ]
  },
  {
   "cell_type": "markdown",
   "metadata": {},
   "source": [
    "**subset all movies for the 60s - 90's, 2000-2015 and see the budgets and  profits side by side\n",
    "as well as the movie for the highest budget and profit**"
   ]
  },
  {
   "cell_type": "code",
   "execution_count": 44,
   "metadata": {},
   "outputs": [
    {
     "data": {
      "image/png": "[encoded data removed]",
      "text/plain": [
       "<Figure size 576x432 with 2 Axes>"
      ]
     },
     "metadata": {
      "needs_background": "light"
     },
     "output_type": "display_data"
    },
    {
     "name": "stdout",
     "output_type": "stream",
     "text": [
      "Highest budgeted  movie for Sixties is : Cleopatra\n",
      "Highest profitable  movie for Sixties is : One Hundred and One Dalmatians\n"
     ]
    },
    {
     "data": {
      "image/png": "[encoded data removed]",
      "text/plain": [
       "<Figure size 576x432 with 2 Axes>"
      ]
     },
     "metadata": {
      "needs_background": "light"
     },
     "output_type": "display_data"
    },
    {
     "name": "stdout",
     "output_type": "stream",
     "text": [
      "Highest budgeted  movie for Seventies is : Superman\n",
      "Highest profitable  movie for Seventies is : Star Wars\n"
     ]
    },
    {
     "data": {
      "image/png": "[encoded data removed]",
      "text/plain": [
       "<Figure size 576x432 with 2 Axes>"
      ]
     },
     "metadata": {
      "needs_background": "light"
     },
     "output_type": "display_data"
    },
    {
     "name": "stdout",
     "output_type": "stream",
     "text": [
      "Highest budgeted  movie for Eighties is : Superman II\n",
      "Highest profitable  movie for Eighties is : E.T. the Extra-Terrestrial\n"
     ]
    },
    {
     "data": {
      "image/png": "[encoded data removed]",
      "text/plain": [
       "<Figure size 576x432 with 2 Axes>"
      ]
     },
     "metadata": {
      "needs_background": "light"
     },
     "output_type": "display_data"
    },
    {
     "name": "stdout",
     "output_type": "stream",
     "text": [
      "Highest budgeted  movie for Nineties is : Titanic\n",
      "Highest profitable  movie for Nineties is : Titanic\n"
     ]
    },
    {
     "data": {
      "image/png": "[encoded data removed]",
      "text/plain": [
       "<Figure size 576x432 with 2 Axes>"
      ]
     },
     "metadata": {
      "needs_background": "light"
     },
     "output_type": "display_data"
    },
    {
     "name": "stdout",
     "output_type": "stream",
     "text": [
      "Highest budgeted  movie for  2000s is : The Warrior's Way\n",
      "Highest profitable  movie for  2000s is : Avatar\n"
     ]
    }
   ],
   "source": [
    "# get subset for all 60's movies\n",
    "sixties_movies = decadeMovies('sixties',1960,1969)\n",
    "plotDecadesBudgetProfit(sixties_movies,'The Sixties','Budget for movies in the 60s')\n",
    "printBudgetProfitMovies(sixties_movies,'Sixties')\n",
    "\n",
    "\n",
    "# get subset for all 70's movies\n",
    "seventies_movies = decadeMovies('seventies',1970,1979)\n",
    "plotDecadesBudgetProfit(seventies_movies,'The Seventies','Budget for movies in the 70s')\n",
    "printBudgetProfitMovies(seventies_movies,'Seventies')\n",
    "\n",
    "#subset for all 80's movies\n",
    "eighties_movies = decadeMovies('eighties',1980,1989)\n",
    "plotDecadesBudgetProfit(eighties_movies,'The eighties','Budget for movies in the 80s')\n",
    "printBudgetProfitMovies(eighties_movies,'Eighties')\n",
    "\n",
    "#subset for all 90's movies\n",
    "nineties_movies = decadeMovies('nineties',1990,1999)\n",
    "plotDecadesBudgetProfit(nineties_movies,'The nineties','Budget for movies in the 90s')\n",
    "printBudgetProfitMovies(nineties_movies,'Nineties')\n",
    "\n",
    "#subset the 2000's -  I am grouping 2000 - 2015 as 2015 is last year for movies in database\n",
    "twoThousands_movies = decadeMovies('twoThousands',2000,2015)\n",
    "plotDecadesBudgetProfit(twoThousands_movies,'The 2000s', 'Budget for movies from 2000 - 2015')\n",
    "printBudgetProfitMovies(twoThousands_movies,' 2000s')\n",
    "\n",
    "\n"
   ]
  },
  {
   "cell_type": "markdown",
   "metadata": {},
   "source": [
    "**This function gets the movie names with the highest budget and profit for the specific decade\n",
    "the argument decade is the decades dataframe and decade_name is a string for the decade such as 'sixties'**"
   ]
  },
  {
   "cell_type": "code",
   "execution_count": 42,
   "metadata": {},
   "outputs": [],
   "source": [
    "def printBudgetProfitMovies(decade, decade_name):\n",
    "    \n",
    "    highest_budget=decade[decade['budget_adj'] == decade['budget_adj'].max()]\n",
    "    #get the movie with highest budget\n",
    "    highest_movie_budget = highest_budget['original_title']\n",
    "\n",
    "    highest_profit=decade[decade['profit_adj'] == decade['profit_adj'].max()]\n",
    "    highest_movie_profit = highest_profit['original_title']\n",
    "\n",
    "    \n",
    "    print(f'Highest budgeted  movie for {decade_name} is : {highest_movie_budget[0]}')\n",
    "    print(f'Highest profitable  movie for {decade_name} is : {highest_movie_profit[0]}')"
   ]
  },
  {
   "cell_type": "markdown",
   "metadata": {},
   "source": [
    "**plot the budget and profit side by side for all decades\n",
    "  the decade_movie argument is the dataframe for the specific decade -  such as 'sixties_movies\n",
    "  the xlabel is the decade such as 'sixties**"
   ]
  },
  {
   "cell_type": "code",
   "execution_count": 43,
   "metadata": {},
   "outputs": [],
   "source": [
    "def plotDecadesBudgetProfit(decade_movie,xlabel,title):\n",
    "    fig, (ax1,ax2)=plt.subplots(1,2,figsize=(8,6))\n",
    "    fig.suptitle('Budget in red and Profit in green')\n",
    "    \n",
    "    #format x and y coordinates.  pulled off just the year\n",
    "    ax1.bar(decade_movie.index.year,decade_movie['budget_adj'],color='red')\n",
    "    ax1.set_xlabel(xlabel)\n",
    "    ax1.set_ylabel('Budget')\n",
    "    #format x and y coordinates.  pulled off just the year\n",
    "    ax2.bar(decade_movie.index.year,decade_movie['profit_adj'],color='green')\n",
    "    ax2.set_xlabel(xlabel)\n",
    "    ax2.set_ylabel('Profit')\n",
    "\n",
    "    plt.show()"
   ]
  },
  {
   "cell_type": "markdown",
   "metadata": {},
   "source": [
    "# let's see the total number of genres "
   ]
  },
  {
   "cell_type": "markdown",
   "metadata": {},
   "source": [
    "**separate out the decades from the genres dataframe**"
   ]
  },
  {
   "cell_type": "code",
   "execution_count": 48,
   "metadata": {},
   "outputs": [],
   "source": [
    "def decadeGenres(decade_name, decade_min,decade_max):\n",
    "    \n",
    "    \n",
    "        decade_name = movie_genres.query('@decade_min <= year <= @decade_max')\n",
    "    \n",
    "        decade_name.loc[:,'year'] = pd.to_datetime(decade_name['year'],format='%Y')\n",
    "        decade_name.set_index(['year'],inplace=True)\n",
    "        return decade_name\n"
   ]
  },
  {
   "cell_type": "markdown",
   "metadata": {},
   "source": [
    "**plot the genres for each decade**"
   ]
  },
  {
   "cell_type": "code",
   "execution_count": 49,
   "metadata": {},
   "outputs": [],
   "source": [
    "def plotDecadeGenres(decade,title):\n",
    "    # sum  up the genres for the decade\n",
    "    genre_sum_count_decade = decade.loc[:,'action':'foreign'].sum(axis=0)\n",
    "    \n",
    "    \n",
    "    fig,ax=plt.subplots()\n",
    "\n",
    "    #set up x and y coordinates.  x are the genres.  I use 1: to get only the genres which started in column 1.\n",
    "    # the genres_sum_cnt_decade is calculated above and is the total sum for all genres for the specific decade.\n",
    "    ax.bar(decade.columns[0:],genre_sum_count_decade)\n",
    "    \n",
    "    # Set the x-axis tick labels to the genre names\n",
    "    ax.set_xticklabels(decade.columns[0:], rotation=90)\n",
    "\n",
    "    # Set the y-axis label\n",
    "    ax.set_ylabel('Number of movies with genre')\n",
    "\n",
    "    ax.set_title(title)\n",
    "    plt.show()"
   ]
  },
  {
   "cell_type": "code",
   "execution_count": 50,
   "metadata": {},
   "outputs": [
    {
     "data": {
      "image/png": "[encoded data removed]",
      "text/plain": [
       "<Figure size 432x288 with 1 Axes>"
      ]
     },
     "metadata": {
      "needs_background": "light"
     },
     "output_type": "display_data"
    },
    {
     "data": {
      "image/png": "[encoded data removed]",
      "text/plain": [
       "<Figure size 432x288 with 1 Axes>"
      ]
     },
     "metadata": {
      "needs_background": "light"
     },
     "output_type": "display_data"
    },
    {
     "data": {
      "image/png": "[encoded data removed]",
      "text/plain": [
       "<Figure size 432x288 with 1 Axes>"
      ]
     },
     "metadata": {
      "needs_background": "light"
     },
     "output_type": "display_data"
    },
    {
     "data": {
      "image/png": "[encoded data removed]",
      "text/plain": [
       "<Figure size 432x288 with 1 Axes>"
      ]
     },
     "metadata": {
      "needs_background": "light"
     },
     "output_type": "display_data"
    },
    {
     "data": {
      "image/png": "[encoded data removed]",
      "text/plain": [
       "<Figure size 432x288 with 1 Axes>"
      ]
     },
     "metadata": {
      "needs_background": "light"
     },
     "output_type": "display_data"
    }
   ],
   "source": [
    "#split the genres by decade\n",
    "sixties_genres = decadeGenres('sixties',1960,1969)\n",
    "#plot the sixties genres\n",
    "plotDecadeGenres(sixties_genres,'movie genres for the sixties')\n",
    "\n",
    "#seventies\n",
    "seventies_genres = decadeGenres('seventies',1970,1979)\n",
    "plotDecadeGenres(seventies_genres,'movie genres for the seventies')\n",
    "\n",
    "#Eighties\n",
    "eighties_genres = decadeGenres('eighties',1980,1989)\n",
    "plotDecadeGenres(eighties_genres,'movie genres for the eighties')\n",
    "\n",
    "#nineties\n",
    "nineties_genres = decadeGenres('nineties',1990,1999)\n",
    "plotDecadeGenres(nineties_genres,'movie genres for the nineties')\n",
    "\n",
    "#the 2000s\n",
    "twoThousands_genres = decadeGenres('The 2000s',2000,2015)\n",
    "plotDecadeGenres(twoThousands_genres,'movie genres for the 2000s')\n",
    "\n",
    "\n",
    "\n"
   ]
  },
  {
   "cell_type": "markdown",
   "metadata": {},
   "source": [
    "**Interesting to see how the genres have changed over the decades.  However, drama as a whole has always being the most\n",
    "popular.**"
   ]
  },
  {
   "cell_type": "markdown",
   "metadata": {},
   "source": [
    "<a id='conclusions'></a>\n",
    "# Conclusions\n",
    "\n",
    "## It was very interesting splitting out the movies by decades to see how our times , what was going on in the world changed our viewing habits and what movies were created.  \n",
    "\n",
    "###  Through out the decades the movie with the highest budget did not make the highest profit except for one year only.  1997 Titanic was the most expensive movie to produce and also had the highest profit.\n",
    "\n",
    "### It appears that the Eighties were a great time to make movies and for all genres.\n",
    "\n",
    "### The genres in the sixities and seventies made a decent amount of war movies.  Made sense as vietnam was still going on and then just ending.  But the eighties seemed to do the best in all genres.  That was the decade for the horror films.  \n",
    "\n",
    "### Documentary and Foreign films started in the eighties as shown by the IMDB database.  I don't think that is correct, its just that they were not recorded., \n",
    "\n",
    "### Drama was clearly the most popular genre.  My guess is that women attend movies more than men and drama movies seem to bend toward that demographic.\n",
    "\n",
    "### Musicals were more popular in the sixties, seventies and eighties.\n",
    "\n",
    "### Comedy peaked in the eighties , but is still popular in the nineties and 2000s.\n",
    "\n",
    "# Limitations:\n",
    "### Dropped 7,000 rows because of missing data.  This will have an impact on the monetary observations of the movies such as doing analysis for budget, revenue and profit.\n",
    "### The vote counts for movies seem small which can effect populartiy and user ratings on a whole.  Also I believe the vote counts are more prevalent now with the internet than  the 60s-80s.  \n",
    " "
   ]
  },
  {
   "cell_type": "code",
   "execution_count": null,
   "metadata": {},
   "outputs": [],
   "source": []
  }
 ],
 "metadata": {
  "kernelspec": {
   "display_name": "Python 3",
   "language": "python",
   "name": "python3"
  },
  "language_info": {
   "codemirror_mode": {
    "name": "ipython",
    "version": 3
   },
   "file_extension": ".py",
   "mimetype": "text/x-python",
   "name": "python",
   "nbconvert_exporter": "python",
   "pygments_lexer": "ipython3",
   "version": "3.7.4"
  }
 },
 "nbformat": 4,
 "nbformat_minor": 2
}
