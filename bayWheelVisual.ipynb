{
 "cells": [
  {
   "cell_type": "markdown",
   "metadata": {},
   "source": [
    "# Exploring the Bay Wheels Trip Data Set.\n",
    "## by Howard Waldstreicher\n",
    "\n",
    "## Exploring the Trip Data Set with visualizations\n",
    "\n",
    "**Bay Wheels is a bike share for anyone in the Bay Area that is affordable, accessible and a fun transportation option**"
   ]
  },
  {
   "cell_type": "code",
   "execution_count": 1,
   "metadata": {},
   "outputs": [],
   "source": [
    "# import all packages and set plots to be embedded inline\n",
    "import numpy as np\n",
    "import pandas as pd\n",
    "import matplotlib.pyplot as plt\n",
    "import seaborn as sb\n",
    "\n",
    "%matplotlib inline"
   ]
  },
  {
   "cell_type": "markdown",
   "metadata": {},
   "source": [
    "## Load the dataset"
   ]
  },
  {
   "cell_type": "code",
   "execution_count": 2,
   "metadata": {},
   "outputs": [
    {
     "name": "stdout",
     "output_type": "stream",
     "text": [
      "<class 'pandas.core.frame.DataFrame'>\n",
      "RangeIndex: 150102 entries, 0 to 150101\n",
      "Data columns (total 14 columns):\n",
      "duration_sec               150102 non-null int64\n",
      "start_time                 150102 non-null object\n",
      "end_time                   150102 non-null object\n",
      "start_station_id           129083 non-null float64\n",
      "start_station_name         129087 non-null object\n",
      "start_station_latitude     150102 non-null float64\n",
      "start_station_longitude    150102 non-null float64\n",
      "end_station_id             128755 non-null float64\n",
      "end_station_name           128757 non-null object\n",
      "end_station_latitude       150102 non-null float64\n",
      "end_station_longitude      150102 non-null float64\n",
      "bike_id                    150102 non-null int64\n",
      "user_type                  150102 non-null object\n",
      "rental_access_method       27681 non-null object\n",
      "dtypes: float64(6), int64(2), object(6)\n",
      "memory usage: 68.7 MB\n"
     ]
    }
   ],
   "source": [
    "#file to read in\n",
    "file = '201912-baywheels-tripdata.csv'\n",
    "#read in dataset which is a csv file \n",
    "df_bike = pd.read_csv(file,low_memory=False)\n",
    "\n",
    "#look at memory usage\n",
    "df_bike.info(memory_usage ='deep')"
   ]
  },
  {
   "cell_type": "markdown",
   "metadata": {},
   "source": [
    "## Structure of Data Set"
   ]
  },
  {
   "cell_type": "code",
   "execution_count": 3,
   "metadata": {},
   "outputs": [
    {
     "data": {
      "text/plain": [
       "(150102, 14)"
      ]
     },
     "execution_count": 3,
     "metadata": {},
     "output_type": "execute_result"
    }
   ],
   "source": [
    "#shape of data\n",
    "df_bike.shape"
   ]
  },
  {
   "cell_type": "code",
   "execution_count": 4,
   "metadata": {},
   "outputs": [
    {
     "data": {
      "text/plain": [
       "Subscriber    78233\n",
       "Customer      71869\n",
       "Name: user_type, dtype: int64"
      ]
     },
     "execution_count": 4,
     "metadata": {},
     "output_type": "execute_result"
    }
   ],
   "source": [
    "# user types \n",
    "df_bike['user_type'].value_counts()"
   ]
  },
  {
   "cell_type": "code",
   "execution_count": 5,
   "metadata": {},
   "outputs": [
    {
     "data": {
      "text/plain": [
       "app        23994\n",
       "clipper     3687\n",
       "Name: rental_access_method, dtype: int64"
      ]
     },
     "execution_count": 5,
     "metadata": {},
     "output_type": "execute_result"
    }
   ],
   "source": [
    "#what are types of rental access\n",
    "df_bike['rental_access_method'].value_counts()"
   ]
  },
  {
   "cell_type": "markdown",
   "metadata": {},
   "source": [
    "**There are many missing rental access types, not sure why- but this is an important field. The clipper is a card for Bay Area residents and tourists (if they want to purchase when visiting) used for mass transit and now for bay wheels.** "
   ]
  },
  {
   "cell_type": "code",
   "execution_count": 6,
   "metadata": {},
   "outputs": [
    {
     "data": {
      "text/plain": [
       "duration_sec                    0\n",
       "start_time                      0\n",
       "end_time                        0\n",
       "start_station_id            21019\n",
       "start_station_name          21015\n",
       "start_station_latitude          0\n",
       "start_station_longitude         0\n",
       "end_station_id              21347\n",
       "end_station_name            21345\n",
       "end_station_latitude            0\n",
       "end_station_longitude           0\n",
       "bike_id                         0\n",
       "user_type                       0\n",
       "rental_access_method       122421\n",
       "dtype: int64"
      ]
     },
     "execution_count": 6,
     "metadata": {},
     "output_type": "execute_result"
    }
   ],
   "source": [
    "#what are the null values\n",
    "df_bike.isnull().sum()"
   ]
  },
  {
   "cell_type": "code",
   "execution_count": 7,
   "metadata": {},
   "outputs": [
    {
     "data": {
      "text/html": [
       "<div>\n",
       "<style scoped>\n",
       "    .dataframe tbody tr th:only-of-type {\n",
       "        vertical-align: middle;\n",
       "    }\n",
       "\n",
       "    .dataframe tbody tr th {\n",
       "        vertical-align: top;\n",
       "    }\n",
       "\n",
       "    .dataframe thead th {\n",
       "        text-align: right;\n",
       "    }\n",
       "</style>\n",
       "<table border=\"1\" class=\"dataframe\">\n",
       "  <thead>\n",
       "    <tr style=\"text-align: right;\">\n",
       "      <th></th>\n",
       "      <th>duration_sec</th>\n",
       "      <th>start_station_id</th>\n",
       "      <th>start_station_latitude</th>\n",
       "      <th>start_station_longitude</th>\n",
       "      <th>end_station_id</th>\n",
       "      <th>end_station_latitude</th>\n",
       "      <th>end_station_longitude</th>\n",
       "      <th>bike_id</th>\n",
       "    </tr>\n",
       "  </thead>\n",
       "  <tbody>\n",
       "    <tr>\n",
       "      <td>count</td>\n",
       "      <td>150102.000000</td>\n",
       "      <td>129083.000000</td>\n",
       "      <td>150102.000000</td>\n",
       "      <td>150102.000000</td>\n",
       "      <td>128755.000000</td>\n",
       "      <td>150102.000000</td>\n",
       "      <td>150102.000000</td>\n",
       "      <td>150102.000000</td>\n",
       "    </tr>\n",
       "    <tr>\n",
       "      <td>mean</td>\n",
       "      <td>790.649752</td>\n",
       "      <td>166.216884</td>\n",
       "      <td>37.734527</td>\n",
       "      <td>-122.324810</td>\n",
       "      <td>157.234841</td>\n",
       "      <td>37.729180</td>\n",
       "      <td>-122.305736</td>\n",
       "      <td>98479.011719</td>\n",
       "    </tr>\n",
       "    <tr>\n",
       "      <td>std</td>\n",
       "      <td>2925.944647</td>\n",
       "      <td>139.504738</td>\n",
       "      <td>0.149011</td>\n",
       "      <td>0.167988</td>\n",
       "      <td>137.800047</td>\n",
       "      <td>0.480472</td>\n",
       "      <td>1.490201</td>\n",
       "      <td>217369.156650</td>\n",
       "    </tr>\n",
       "    <tr>\n",
       "      <td>min</td>\n",
       "      <td>60.000000</td>\n",
       "      <td>3.000000</td>\n",
       "      <td>37.268049</td>\n",
       "      <td>-122.513816</td>\n",
       "      <td>3.000000</td>\n",
       "      <td>0.000000</td>\n",
       "      <td>-122.513824</td>\n",
       "      <td>12.000000</td>\n",
       "    </tr>\n",
       "    <tr>\n",
       "      <td>25%</td>\n",
       "      <td>359.000000</td>\n",
       "      <td>52.000000</td>\n",
       "      <td>37.764802</td>\n",
       "      <td>-122.415674</td>\n",
       "      <td>38.000000</td>\n",
       "      <td>37.765026</td>\n",
       "      <td>-122.411726</td>\n",
       "      <td>9496.000000</td>\n",
       "    </tr>\n",
       "    <tr>\n",
       "      <td>50%</td>\n",
       "      <td>570.000000</td>\n",
       "      <td>116.000000</td>\n",
       "      <td>37.776664</td>\n",
       "      <td>-122.398279</td>\n",
       "      <td>109.000000</td>\n",
       "      <td>37.777053</td>\n",
       "      <td>-122.397086</td>\n",
       "      <td>11025.000000</td>\n",
       "    </tr>\n",
       "    <tr>\n",
       "      <td>75%</td>\n",
       "      <td>886.000000</td>\n",
       "      <td>266.000000</td>\n",
       "      <td>37.792251</td>\n",
       "      <td>-122.275698</td>\n",
       "      <td>252.000000</td>\n",
       "      <td>37.794130</td>\n",
       "      <td>-122.279352</td>\n",
       "      <td>12727.000000</td>\n",
       "    </tr>\n",
       "    <tr>\n",
       "      <td>max</td>\n",
       "      <td>912110.000000</td>\n",
       "      <td>498.000000</td>\n",
       "      <td>37.880222</td>\n",
       "      <td>-121.813425</td>\n",
       "      <td>498.000000</td>\n",
       "      <td>37.880222</td>\n",
       "      <td>0.000000</td>\n",
       "      <td>999941.000000</td>\n",
       "    </tr>\n",
       "  </tbody>\n",
       "</table>\n",
       "</div>"
      ],
      "text/plain": [
       "        duration_sec  start_station_id  start_station_latitude  \\\n",
       "count  150102.000000     129083.000000           150102.000000   \n",
       "mean      790.649752        166.216884               37.734527   \n",
       "std      2925.944647        139.504738                0.149011   \n",
       "min        60.000000          3.000000               37.268049   \n",
       "25%       359.000000         52.000000               37.764802   \n",
       "50%       570.000000        116.000000               37.776664   \n",
       "75%       886.000000        266.000000               37.792251   \n",
       "max    912110.000000        498.000000               37.880222   \n",
       "\n",
       "       start_station_longitude  end_station_id  end_station_latitude  \\\n",
       "count            150102.000000   128755.000000         150102.000000   \n",
       "mean               -122.324810      157.234841             37.729180   \n",
       "std                   0.167988      137.800047              0.480472   \n",
       "min                -122.513816        3.000000              0.000000   \n",
       "25%                -122.415674       38.000000             37.765026   \n",
       "50%                -122.398279      109.000000             37.777053   \n",
       "75%                -122.275698      252.000000             37.794130   \n",
       "max                -121.813425      498.000000             37.880222   \n",
       "\n",
       "       end_station_longitude        bike_id  \n",
       "count          150102.000000  150102.000000  \n",
       "mean             -122.305736   98479.011719  \n",
       "std                 1.490201  217369.156650  \n",
       "min              -122.513824      12.000000  \n",
       "25%              -122.411726    9496.000000  \n",
       "50%              -122.397086   11025.000000  \n",
       "75%              -122.279352   12727.000000  \n",
       "max                 0.000000  999941.000000  "
      ]
     },
     "execution_count": 7,
     "metadata": {},
     "output_type": "execute_result"
    }
   ],
   "source": [
    "#statistics\n",
    "df_bike.describe()"
   ]
  },
  {
   "cell_type": "code",
   "execution_count": 8,
   "metadata": {},
   "outputs": [
    {
     "name": "stdout",
     "output_type": "stream",
     "text": [
      "<class 'pandas.core.frame.DataFrame'>\n",
      "RangeIndex: 150102 entries, 0 to 150101\n",
      "Data columns (total 14 columns):\n",
      "duration_sec               150102 non-null int64\n",
      "start_time                 150102 non-null object\n",
      "end_time                   150102 non-null object\n",
      "start_station_id           129083 non-null float64\n",
      "start_station_name         129087 non-null object\n",
      "start_station_latitude     150102 non-null float64\n",
      "start_station_longitude    150102 non-null float64\n",
      "end_station_id             128755 non-null float64\n",
      "end_station_name           128757 non-null object\n",
      "end_station_latitude       150102 non-null float64\n",
      "end_station_longitude      150102 non-null float64\n",
      "bike_id                    150102 non-null int64\n",
      "user_type                  150102 non-null object\n",
      "rental_access_method       27681 non-null object\n",
      "dtypes: float64(6), int64(2), object(6)\n",
      "memory usage: 16.0+ MB\n"
     ]
    }
   ],
   "source": [
    "#data info\n",
    "df_bike.info()"
   ]
  },
  {
   "cell_type": "markdown",
   "metadata": {},
   "source": [
    "# Some minor data wrangling is needed \n",
    "\n",
    "1. drop the following columns as they provide no value for analysis - start_station_id, start_station_latitude,start_station_longitude, end_station_id, end_station_latitude,end_station_longitude, and bike_id\n",
    "2. replace all NaN values after dropping columns to 'NA' for not available as they are strings\n",
    "3. change start_time and end_time to Date timestamps\n",
    "4. add two new columns duration_less60_mins and duration_greater60_mins. .  I will drop all rows greater than 3 hours as this is the bulk of the data.\n"
   ]
  },
  {
   "cell_type": "code",
   "execution_count": 9,
   "metadata": {},
   "outputs": [
    {
     "data": {
      "text/html": [
       "<div>\n",
       "<style scoped>\n",
       "    .dataframe tbody tr th:only-of-type {\n",
       "        vertical-align: middle;\n",
       "    }\n",
       "\n",
       "    .dataframe tbody tr th {\n",
       "        vertical-align: top;\n",
       "    }\n",
       "\n",
       "    .dataframe thead th {\n",
       "        text-align: right;\n",
       "    }\n",
       "</style>\n",
       "<table border=\"1\" class=\"dataframe\">\n",
       "  <thead>\n",
       "    <tr style=\"text-align: right;\">\n",
       "      <th></th>\n",
       "      <th>duration_sec</th>\n",
       "      <th>start_time</th>\n",
       "      <th>end_time</th>\n",
       "      <th>start_station_name</th>\n",
       "      <th>end_station_name</th>\n",
       "      <th>user_type</th>\n",
       "      <th>rental_access_method</th>\n",
       "    </tr>\n",
       "  </thead>\n",
       "  <tbody>\n",
       "    <tr>\n",
       "      <td>0</td>\n",
       "      <td>66600</td>\n",
       "      <td>2019-12-31 14:28:50.2860</td>\n",
       "      <td>2020-01-01 08:58:51.2500</td>\n",
       "      <td>China Basin St at 3rd St</td>\n",
       "      <td>Howard St at Mary St</td>\n",
       "      <td>Customer</td>\n",
       "      <td>NaN</td>\n",
       "    </tr>\n",
       "  </tbody>\n",
       "</table>\n",
       "</div>"
      ],
      "text/plain": [
       "   duration_sec                start_time                  end_time  \\\n",
       "0         66600  2019-12-31 14:28:50.2860  2020-01-01 08:58:51.2500   \n",
       "\n",
       "         start_station_name      end_station_name user_type  \\\n",
       "0  China Basin St at 3rd St  Howard St at Mary St  Customer   \n",
       "\n",
       "  rental_access_method  \n",
       "0                  NaN  "
      ]
     },
     "execution_count": 9,
     "metadata": {},
     "output_type": "execute_result"
    }
   ],
   "source": [
    "#make a copy of frame\n",
    "df_bike_copy = df_bike.copy()\n",
    "\n",
    "#list of columns to be dropped\n",
    "col_drop=['start_station_id','start_station_latitude','start_station_longitude','end_station_id','end_station_latitude',\n",
    "         'end_station_longitude','bike_id']\n",
    "#drop the columns not being used for analysis\n",
    "df_bike_copy.drop(col_drop,axis=1,inplace=True)\n",
    "\n",
    "#verify\n",
    "df_bike_copy.head(1)"
   ]
  },
  {
   "cell_type": "code",
   "execution_count": 10,
   "metadata": {
    "scrolled": true
   },
   "outputs": [
    {
     "data": {
      "text/html": [
       "<div>\n",
       "<style scoped>\n",
       "    .dataframe tbody tr th:only-of-type {\n",
       "        vertical-align: middle;\n",
       "    }\n",
       "\n",
       "    .dataframe tbody tr th {\n",
       "        vertical-align: top;\n",
       "    }\n",
       "\n",
       "    .dataframe thead th {\n",
       "        text-align: right;\n",
       "    }\n",
       "</style>\n",
       "<table border=\"1\" class=\"dataframe\">\n",
       "  <thead>\n",
       "    <tr style=\"text-align: right;\">\n",
       "      <th></th>\n",
       "      <th>duration_sec</th>\n",
       "      <th>start_time</th>\n",
       "      <th>end_time</th>\n",
       "      <th>start_station_name</th>\n",
       "      <th>end_station_name</th>\n",
       "      <th>user_type</th>\n",
       "      <th>rental_access_method</th>\n",
       "    </tr>\n",
       "  </thead>\n",
       "  <tbody>\n",
       "    <tr>\n",
       "      <td>150100</td>\n",
       "      <td>326</td>\n",
       "      <td>2019-12-30 20:35:43</td>\n",
       "      <td>2019-12-30 20:41:09</td>\n",
       "      <td>NA</td>\n",
       "      <td>NA</td>\n",
       "      <td>Subscriber</td>\n",
       "      <td>app</td>\n",
       "    </tr>\n",
       "    <tr>\n",
       "      <td>150101</td>\n",
       "      <td>4023</td>\n",
       "      <td>2019-12-31 19:26:48</td>\n",
       "      <td>2019-12-31 20:33:52</td>\n",
       "      <td>NA</td>\n",
       "      <td>NA</td>\n",
       "      <td>Subscriber</td>\n",
       "      <td>app</td>\n",
       "    </tr>\n",
       "  </tbody>\n",
       "</table>\n",
       "</div>"
      ],
      "text/plain": [
       "        duration_sec           start_time             end_time  \\\n",
       "150100           326  2019-12-30 20:35:43  2019-12-30 20:41:09   \n",
       "150101          4023  2019-12-31 19:26:48  2019-12-31 20:33:52   \n",
       "\n",
       "       start_station_name end_station_name   user_type rental_access_method  \n",
       "150100                 NA               NA  Subscriber                  app  \n",
       "150101                 NA               NA  Subscriber                  app  "
      ]
     },
     "execution_count": 10,
     "metadata": {},
     "output_type": "execute_result"
    }
   ],
   "source": [
    "#replace NaN values with 'NA' for not available\n",
    "df_bike_copy.fillna({'start_station_name':'NA', 'end_station_name':'NA','rental_access_method':'NA'}, inplace=True)\n",
    "\n",
    "#verify start and end station names\n",
    "df_bike_copy.tail(2)"
   ]
  },
  {
   "cell_type": "code",
   "execution_count": 11,
   "metadata": {},
   "outputs": [
    {
     "data": {
      "text/html": [
       "<div>\n",
       "<style scoped>\n",
       "    .dataframe tbody tr th:only-of-type {\n",
       "        vertical-align: middle;\n",
       "    }\n",
       "\n",
       "    .dataframe tbody tr th {\n",
       "        vertical-align: top;\n",
       "    }\n",
       "\n",
       "    .dataframe thead th {\n",
       "        text-align: right;\n",
       "    }\n",
       "</style>\n",
       "<table border=\"1\" class=\"dataframe\">\n",
       "  <thead>\n",
       "    <tr style=\"text-align: right;\">\n",
       "      <th></th>\n",
       "      <th>duration_sec</th>\n",
       "      <th>start_time</th>\n",
       "      <th>end_time</th>\n",
       "      <th>start_station_name</th>\n",
       "      <th>end_station_name</th>\n",
       "      <th>user_type</th>\n",
       "      <th>rental_access_method</th>\n",
       "    </tr>\n",
       "  </thead>\n",
       "  <tbody>\n",
       "    <tr>\n",
       "      <td>0</td>\n",
       "      <td>66600</td>\n",
       "      <td>2019-12-31 14:28:50.2860</td>\n",
       "      <td>2020-01-01 08:58:51.2500</td>\n",
       "      <td>China Basin St at 3rd St</td>\n",
       "      <td>Howard St at Mary St</td>\n",
       "      <td>Customer</td>\n",
       "      <td>NA</td>\n",
       "    </tr>\n",
       "    <tr>\n",
       "      <td>1</td>\n",
       "      <td>36526</td>\n",
       "      <td>2019-12-31 21:52:47.7620</td>\n",
       "      <td>2020-01-01 08:01:33.9320</td>\n",
       "      <td>The Embarcadero at Pier 38</td>\n",
       "      <td>Illinois St at Cesar Chavez St</td>\n",
       "      <td>Customer</td>\n",
       "      <td>NA</td>\n",
       "    </tr>\n",
       "  </tbody>\n",
       "</table>\n",
       "</div>"
      ],
      "text/plain": [
       "   duration_sec                start_time                  end_time  \\\n",
       "0         66600  2019-12-31 14:28:50.2860  2020-01-01 08:58:51.2500   \n",
       "1         36526  2019-12-31 21:52:47.7620  2020-01-01 08:01:33.9320   \n",
       "\n",
       "           start_station_name                end_station_name user_type  \\\n",
       "0    China Basin St at 3rd St            Howard St at Mary St  Customer   \n",
       "1  The Embarcadero at Pier 38  Illinois St at Cesar Chavez St  Customer   \n",
       "\n",
       "  rental_access_method  \n",
       "0                   NA  \n",
       "1                   NA  "
      ]
     },
     "execution_count": 11,
     "metadata": {},
     "output_type": "execute_result"
    }
   ],
   "source": [
    "#verify rental_access is NA looking at first few rows\n",
    "df_bike_copy.head(2)"
   ]
  },
  {
   "cell_type": "code",
   "execution_count": 12,
   "metadata": {},
   "outputs": [
    {
     "name": "stdout",
     "output_type": "stream",
     "text": [
      "<class 'pandas.core.frame.DataFrame'>\n",
      "RangeIndex: 150102 entries, 0 to 150101\n",
      "Data columns (total 7 columns):\n",
      "duration_sec            150102 non-null int64\n",
      "start_time              150102 non-null datetime64[ns]\n",
      "end_time                150102 non-null datetime64[ns]\n",
      "start_station_name      150102 non-null object\n",
      "end_station_name        150102 non-null object\n",
      "user_type               150102 non-null object\n",
      "rental_access_method    150102 non-null object\n",
      "dtypes: datetime64[ns](2), int64(1), object(4)\n",
      "memory usage: 8.0+ MB\n"
     ]
    }
   ],
   "source": [
    "# convert start_time and end_time to date time objects\n",
    "df_bike_copy['start_time']= pd.to_datetime(df_bike_copy['start_time'])\n",
    "df_bike_copy['end_time']= pd.to_datetime(df_bike_copy['end_time'])\n",
    "\n",
    "#verify\n",
    "df_bike_copy.info()"
   ]
  },
  {
   "cell_type": "markdown",
   "metadata": {},
   "source": [
    "**add weekday_name column based off date timestamp - This will be useful to determine rides on weekdays**"
   ]
  },
  {
   "cell_type": "code",
   "execution_count": 13,
   "metadata": {},
   "outputs": [
    {
     "data": {
      "text/html": [
       "<div>\n",
       "<style scoped>\n",
       "    .dataframe tbody tr th:only-of-type {\n",
       "        vertical-align: middle;\n",
       "    }\n",
       "\n",
       "    .dataframe tbody tr th {\n",
       "        vertical-align: top;\n",
       "    }\n",
       "\n",
       "    .dataframe thead th {\n",
       "        text-align: right;\n",
       "    }\n",
       "</style>\n",
       "<table border=\"1\" class=\"dataframe\">\n",
       "  <thead>\n",
       "    <tr style=\"text-align: right;\">\n",
       "      <th></th>\n",
       "      <th>start_time</th>\n",
       "      <th>dow</th>\n",
       "    </tr>\n",
       "  </thead>\n",
       "  <tbody>\n",
       "    <tr>\n",
       "      <td>114919</td>\n",
       "      <td>2019-12-03 08:34:22.737</td>\n",
       "      <td>Tuesday</td>\n",
       "    </tr>\n",
       "    <tr>\n",
       "      <td>43817</td>\n",
       "      <td>2019-12-16 15:04:42.332</td>\n",
       "      <td>Monday</td>\n",
       "    </tr>\n",
       "    <tr>\n",
       "      <td>101017</td>\n",
       "      <td>2019-12-05 13:43:16.321</td>\n",
       "      <td>Thursday</td>\n",
       "    </tr>\n",
       "    <tr>\n",
       "      <td>110166</td>\n",
       "      <td>2019-12-04 00:40:54.540</td>\n",
       "      <td>Wednesday</td>\n",
       "    </tr>\n",
       "    <tr>\n",
       "      <td>129625</td>\n",
       "      <td>2019-12-23 06:59:17.000</td>\n",
       "      <td>Monday</td>\n",
       "    </tr>\n",
       "  </tbody>\n",
       "</table>\n",
       "</div>"
      ],
      "text/plain": [
       "                    start_time        dow\n",
       "114919 2019-12-03 08:34:22.737    Tuesday\n",
       "43817  2019-12-16 15:04:42.332     Monday\n",
       "101017 2019-12-05 13:43:16.321   Thursday\n",
       "110166 2019-12-04 00:40:54.540  Wednesday\n",
       "129625 2019-12-23 06:59:17.000     Monday"
      ]
     },
     "execution_count": 13,
     "metadata": {},
     "output_type": "execute_result"
    }
   ],
   "source": [
    "#add dow(day of week) column by name\n",
    "df_bike_copy['dow'] = df_bike_copy['start_time'].dt.weekday_name\n",
    "\n",
    "#verify\n",
    "df_bike_copy[['start_time','dow']].sample(5)"
   ]
  },
  {
   "cell_type": "markdown",
   "metadata": {},
   "source": [
    "**Now lets add a boolean column to determine if it is a weekend, possibly to be used in our analysis**"
   ]
  },
  {
   "cell_type": "code",
   "execution_count": 14,
   "metadata": {},
   "outputs": [
    {
     "data": {
      "text/html": [
       "<div>\n",
       "<style scoped>\n",
       "    .dataframe tbody tr th:only-of-type {\n",
       "        vertical-align: middle;\n",
       "    }\n",
       "\n",
       "    .dataframe tbody tr th {\n",
       "        vertical-align: top;\n",
       "    }\n",
       "\n",
       "    .dataframe thead th {\n",
       "        text-align: right;\n",
       "    }\n",
       "</style>\n",
       "<table border=\"1\" class=\"dataframe\">\n",
       "  <thead>\n",
       "    <tr style=\"text-align: right;\">\n",
       "      <th></th>\n",
       "      <th>dow</th>\n",
       "      <th>day</th>\n",
       "    </tr>\n",
       "  </thead>\n",
       "  <tbody>\n",
       "    <tr>\n",
       "      <td>20983</td>\n",
       "      <td>Friday</td>\n",
       "      <td>weekday</td>\n",
       "    </tr>\n",
       "    <tr>\n",
       "      <td>133356</td>\n",
       "      <td>Thursday</td>\n",
       "      <td>weekday</td>\n",
       "    </tr>\n",
       "    <tr>\n",
       "      <td>117116</td>\n",
       "      <td>Monday</td>\n",
       "      <td>weekday</td>\n",
       "    </tr>\n",
       "    <tr>\n",
       "      <td>11979</td>\n",
       "      <td>Tuesday</td>\n",
       "      <td>weekday</td>\n",
       "    </tr>\n",
       "    <tr>\n",
       "      <td>134441</td>\n",
       "      <td>Saturday</td>\n",
       "      <td>weekend</td>\n",
       "    </tr>\n",
       "    <tr>\n",
       "      <td>99034</td>\n",
       "      <td>Thursday</td>\n",
       "      <td>weekday</td>\n",
       "    </tr>\n",
       "    <tr>\n",
       "      <td>12293</td>\n",
       "      <td>Tuesday</td>\n",
       "      <td>weekday</td>\n",
       "    </tr>\n",
       "    <tr>\n",
       "      <td>56131</td>\n",
       "      <td>Friday</td>\n",
       "      <td>weekday</td>\n",
       "    </tr>\n",
       "    <tr>\n",
       "      <td>104296</td>\n",
       "      <td>Thursday</td>\n",
       "      <td>weekday</td>\n",
       "    </tr>\n",
       "    <tr>\n",
       "      <td>107007</td>\n",
       "      <td>Wednesday</td>\n",
       "      <td>weekday</td>\n",
       "    </tr>\n",
       "  </tbody>\n",
       "</table>\n",
       "</div>"
      ],
      "text/plain": [
       "              dow      day\n",
       "20983      Friday  weekday\n",
       "133356   Thursday  weekday\n",
       "117116     Monday  weekday\n",
       "11979     Tuesday  weekday\n",
       "134441   Saturday  weekend\n",
       "99034    Thursday  weekday\n",
       "12293     Tuesday  weekday\n",
       "56131      Friday  weekday\n",
       "104296   Thursday  weekday\n",
       "107007  Wednesday  weekday"
      ]
     },
     "execution_count": 14,
     "metadata": {},
     "output_type": "execute_result"
    }
   ],
   "source": [
    "df_bike_copy['day'] = np.where(df_bike_copy['dow'].isin(['Sunday','Saturday']),'weekend','weekday')\n",
    "#verify\n",
    "df_bike_copy[['dow','day']].sample(10)"
   ]
  },
  {
   "cell_type": "markdown",
   "metadata": {},
   "source": [
    "**Drop the rows with duration_sec greater than 10800 (3 hours)**"
   ]
  },
  {
   "cell_type": "code",
   "execution_count": 15,
   "metadata": {},
   "outputs": [],
   "source": [
    "#drop the rows with duration_sec > 10800 (3 hours)\n",
    "df_bike_copy = df_bike_copy.query('duration_sec <10801')"
   ]
  },
  {
   "cell_type": "markdown",
   "metadata": {},
   "source": [
    "**Converting duration_secs to mins to get a cleaner look on how long people ride. Two new columns will be created duration_less60  (for rides less than 1 hour ) and duration_greater60 (for rides greater than 1 hour)  Both columns will be in minutes.  I am doing minutes instead of converting to hours because of the number of datapoints that would be created for a strict hour conversion**\n"
   ]
  },
  {
   "cell_type": "code",
   "execution_count": 16,
   "metadata": {},
   "outputs": [],
   "source": [
    "#divide seconds by 60 to get minutes if duration_sec < 1 hour 3600 seconds and will not keep remainder by using //\n",
    "#for seconds greater than 3599 populate column with 0 as these will be hour or more rides.\n",
    "df_bike_copy['duration_less60_mins']=  df_bike_copy['duration_sec'].apply(lambda x: x//60 if x <3600 else 0)\n",
    "\n",
    "\n",
    "#add a duration_greater60_mins column for riders riding longer than 60 minutes and will not keep remainder and put\n",
    "#0 in the column if value is not >=60  minutes.\n",
    "df_bike_copy['duration_greater60_mins']=  df_bike_copy['duration_sec'].apply(lambda x: x//60 if x >3599 else 0)\n",
    "\n",
    "#create a categorical column for less 60 minutes  and greater 60 minutes\n",
    "df_bike_copy['ride_time']= df_bike_copy['duration_sec'].apply(lambda x: '<60 Mins' if x<3600 else\n",
    "                                                             '>60 Mins')\n"
   ]
  },
  {
   "cell_type": "code",
   "execution_count": 17,
   "metadata": {},
   "outputs": [
    {
     "data": {
      "text/html": [
       "<div>\n",
       "<style scoped>\n",
       "    .dataframe tbody tr th:only-of-type {\n",
       "        vertical-align: middle;\n",
       "    }\n",
       "\n",
       "    .dataframe tbody tr th {\n",
       "        vertical-align: top;\n",
       "    }\n",
       "\n",
       "    .dataframe thead th {\n",
       "        text-align: right;\n",
       "    }\n",
       "</style>\n",
       "<table border=\"1\" class=\"dataframe\">\n",
       "  <thead>\n",
       "    <tr style=\"text-align: right;\">\n",
       "      <th></th>\n",
       "      <th>duration_sec</th>\n",
       "      <th>duration_less60_mins</th>\n",
       "      <th>duration_greater60_mins</th>\n",
       "      <th>ride_time</th>\n",
       "    </tr>\n",
       "  </thead>\n",
       "  <tbody>\n",
       "    <tr>\n",
       "      <td>123133</td>\n",
       "      <td>637</td>\n",
       "      <td>10</td>\n",
       "      <td>0</td>\n",
       "      <td>&lt;60 Mins</td>\n",
       "    </tr>\n",
       "    <tr>\n",
       "      <td>37843</td>\n",
       "      <td>273</td>\n",
       "      <td>4</td>\n",
       "      <td>0</td>\n",
       "      <td>&lt;60 Mins</td>\n",
       "    </tr>\n",
       "    <tr>\n",
       "      <td>8733</td>\n",
       "      <td>204</td>\n",
       "      <td>3</td>\n",
       "      <td>0</td>\n",
       "      <td>&lt;60 Mins</td>\n",
       "    </tr>\n",
       "    <tr>\n",
       "      <td>132015</td>\n",
       "      <td>191</td>\n",
       "      <td>3</td>\n",
       "      <td>0</td>\n",
       "      <td>&lt;60 Mins</td>\n",
       "    </tr>\n",
       "    <tr>\n",
       "      <td>80686</td>\n",
       "      <td>727</td>\n",
       "      <td>12</td>\n",
       "      <td>0</td>\n",
       "      <td>&lt;60 Mins</td>\n",
       "    </tr>\n",
       "    <tr>\n",
       "      <td>82264</td>\n",
       "      <td>2346</td>\n",
       "      <td>39</td>\n",
       "      <td>0</td>\n",
       "      <td>&lt;60 Mins</td>\n",
       "    </tr>\n",
       "  </tbody>\n",
       "</table>\n",
       "</div>"
      ],
      "text/plain": [
       "        duration_sec  duration_less60_mins  duration_greater60_mins ride_time\n",
       "123133           637                    10                        0  <60 Mins\n",
       "37843            273                     4                        0  <60 Mins\n",
       "8733             204                     3                        0  <60 Mins\n",
       "132015           191                     3                        0  <60 Mins\n",
       "80686            727                    12                        0  <60 Mins\n",
       "82264           2346                    39                        0  <60 Mins"
      ]
     },
     "execution_count": 17,
     "metadata": {},
     "output_type": "execute_result"
    }
   ],
   "source": [
    "#verify\n",
    "df_bike_copy[['duration_sec','duration_less60_mins','duration_greater60_mins','ride_time']].sample(6)"
   ]
  },
  {
   "cell_type": "markdown",
   "metadata": {},
   "source": [
    "**write clean frame df_bike_copy to pickle file to preserve dtype and  be used in the explanatory notebook**"
   ]
  },
  {
   "cell_type": "code",
   "execution_count": 18,
   "metadata": {},
   "outputs": [],
   "source": [
    "#write to csv file\n",
    "df_bike_copy.to_pickle('bayWheelsDataCleaned.pkl')"
   ]
  },
  {
   "cell_type": "markdown",
   "metadata": {},
   "source": [
    "\n",
    "### Main feature(s) of interest \n",
    "\n",
    "**The main feature I am interested in is the duration of the bike ride. Are most rides short,medium or long? What day of the week typically has the longest ride? As well as which day of week has the most riders and longest rides.  I am also interested in which rental_access method is preferred.  THe local clipper card or a regular phone app?**\n",
    "\n",
    "### Features helping to support investigation\n",
    "\n",
    "**The duration , user_type and rental_access  will be of interest. - I will be curious if members(subscribers to the service) or customers(just rental) will have longer rides and who uses the service more - subscribers or customers.**"
   ]
  },
  {
   "cell_type": "markdown",
   "metadata": {},
   "source": [
    "## Univariate Exploration\n",
    "### Lets look at duration  which I changed to minutes and hours\n",
    "\n"
   ]
  },
  {
   "cell_type": "code",
   "execution_count": 19,
   "metadata": {},
   "outputs": [],
   "source": [
    "#set the figure to notebook for all plots\n",
    "sb.set_context('notebook')"
   ]
  },
  {
   "cell_type": "markdown",
   "metadata": {},
   "source": [
    "**Variables to be used through out plots.**\n"
   ]
  },
  {
   "cell_type": "code",
   "execution_count": 20,
   "metadata": {},
   "outputs": [
    {
     "name": "stdout",
     "output_type": "stream",
     "text": [
      "<class 'pandas.core.frame.DataFrame'>\n",
      "Int64Index: 149815 entries, 2 to 150101\n",
      "Data columns (total 12 columns):\n",
      "duration_sec               149815 non-null int64\n",
      "start_time                 149815 non-null datetime64[ns]\n",
      "end_time                   149815 non-null datetime64[ns]\n",
      "start_station_name         149815 non-null object\n",
      "end_station_name           149815 non-null object\n",
      "user_type                  149815 non-null object\n",
      "rental_access_method       149815 non-null object\n",
      "dow                        149815 non-null object\n",
      "day                        149815 non-null object\n",
      "duration_less60_mins       149815 non-null int64\n",
      "duration_greater60_mins    149815 non-null int64\n",
      "ride_time                  149815 non-null object\n",
      "dtypes: datetime64[ns](2), int64(3), object(7)\n",
      "memory usage: 14.9+ MB\n"
     ]
    }
   ],
   "source": [
    "df_bike_copy.info()"
   ]
  },
  {
   "cell_type": "code",
   "execution_count": 21,
   "metadata": {},
   "outputs": [],
   "source": [
    "#day of week list starting with monday\n",
    "dow_order = ['Monday','Tuesday','Wednesday','Thursday','Friday','Saturday','Sunday']\n",
    "\n",
    "# riders riding less than 60 minutes (1 hour)\n",
    "df_mins = df_bike_copy.query('duration_less60_mins > 0')\n",
    "#create a series of just minutes less than 60\n",
    "mins=df_mins['duration_less60_mins']\n",
    "\n",
    "# riders riding more than 1 hour (60 minutes or greater)\n",
    "df_hours = df_bike_copy.query('duration_greater60_mins > 0')\n",
    "#create a series of just minutes 1 hour or more\n",
    "hours = df_hours['duration_greater60_mins']\n",
    "\n"
   ]
  },
  {
   "cell_type": "code",
   "execution_count": 22,
   "metadata": {},
   "outputs": [
    {
     "data": {
      "image/png": "[encoded data removed]",
      "text/plain": [
       "<Figure size 432x288 with 1 Axes>"
      ]
     },
     "metadata": {
      "needs_background": "light"
     },
     "output_type": "display_data"
    }
   ],
   "source": [
    "#lets check riders that rode for less than 1 hour\n",
    "\n",
    "\n",
    "#create the bin range\n",
    "bins = np.arange(0, 60, 5)\n",
    "# Create a distplot \n",
    "sb.distplot(mins,\n",
    "             kde=False,\n",
    "             bins=bins)\n",
    "\n",
    "# Display the plot\n",
    "plt.show();"
   ]
  },
  {
   "cell_type": "code",
   "execution_count": 23,
   "metadata": {},
   "outputs": [
    {
     "data": {
      "image/png": "[encoded data removed]",
      "text/plain": [
       "<Figure size 432x288 with 1 Axes>"
      ]
     },
     "metadata": {
      "needs_background": "light"
     },
     "output_type": "display_data"
    }
   ],
   "source": [
    "#another look at duration in minutes\n",
    "#create distplot without histogram and use a rugplot\n",
    "sb.distplot(mins,\n",
    "            hist=False,\n",
    "            rug=True,\n",
    "            kde_kws={'shade':True})\n",
    "\n",
    "#display the plot           \n",
    "plt.show();"
   ]
  },
  {
   "cell_type": "code",
   "execution_count": 24,
   "metadata": {},
   "outputs": [
    {
     "data": {
      "image/png": "[encoded data removed]",
      "text/plain": [
       "<Figure size 432x288 with 1 Axes>"
      ]
     },
     "metadata": {
      "needs_background": "light"
     },
     "output_type": "display_data"
    }
   ],
   "source": [
    "#Now , lets look at number of riders who rode more than 1 hour\n",
    "\n",
    "#create the bin range\n",
    "bins = np.arange(60, 180, 10)\n",
    "# Create a distplot \n",
    "sb.distplot(hours,\n",
    "             kde=False,\n",
    "             bins=bins)\n",
    "\n",
    "# Display the plot\n",
    "plt.show();"
   ]
  },
  {
   "cell_type": "code",
   "execution_count": 25,
   "metadata": {},
   "outputs": [
    {
     "data": {
      "image/png": "[encoded data removed]",
      "text/plain": [
       "<Figure size 432x288 with 1 Axes>"
      ]
     },
     "metadata": {
      "needs_background": "light"
     },
     "output_type": "display_data"
    }
   ],
   "source": [
    "#another look at duration in hours\n",
    "#create distplot without histogram and use a rugplot\n",
    "sb.distplot(hours,\n",
    "            hist=False,\n",
    "            rug=True,\n",
    "            kde_kws={'shade':True})\n",
    "\n",
    "#display the plot           \n",
    "plt.show();"
   ]
  },
  {
   "cell_type": "markdown",
   "metadata": {},
   "source": [
    "**plotting the minutes and hours side by side and look at the median and mean for both**"
   ]
  },
  {
   "cell_type": "code",
   "execution_count": 26,
   "metadata": {},
   "outputs": [
    {
     "data": {
      "image/png": "[encoded data removed]",
      "text/plain": [
       "<Figure size 432x288 with 2 Axes>"
      ]
     },
     "metadata": {
      "needs_background": "light"
     },
     "output_type": "display_data"
    }
   ],
   "source": [
    "#set the mean and median to variables to be used in the plot\n",
    "mins_mean = mins.mean()\n",
    "mins_median=mins.median()\n",
    "hours_mean = hours.mean()\n",
    "hours_median = hours.median()\n",
    "# Create a figure and axes. \n",
    "fig, (ax0,ax1) = plt.subplots(1,2,sharey=True)\n",
    "sb.distplot(mins, ax=ax0)\n",
    "\n",
    "# Customize the labels and limitsfor minutes length\n",
    "ax0.set(xlabel=\"< 1 hour rides\", xlim=(0,60), title=\"Shared Bike Rides\")\n",
    "\n",
    "# Add vertical lines for the median and mean for minutes\n",
    "ax0.axvline(x=mins_median, color='m', label='Median', linestyle='--', linewidth=2)\n",
    "ax0.axvline(x=mins_mean, color='b', label='Mean', linestyle='-', linewidth=2)\n",
    "\n",
    "#create the hours subplot\n",
    "sb.distplot(hours,ax=ax1)\n",
    "\n",
    "#customize labels and limits for hours length\n",
    "ax1.set(xlabel=\"> 1 hour rides (in mins)\", xlim=(60,180), title=\"Shared Bike Rides\")\n",
    "\n",
    "# Add vertical lines for the median and mean for hours\n",
    "ax1.axvline(x=hours_median, color='m', label='Median', linestyle='--', linewidth=2)\n",
    "ax1.axvline(x=hours_mean, color='b', label='Mean', linestyle='-', linewidth=2)\n",
    "\n",
    "# Show the legend and plot the data\n",
    "ax0.legend()\n",
    "ax1.legend()\n",
    "\n",
    "#display plots\n",
    "plt.show()"
   ]
  },
  {
   "cell_type": "markdown",
   "metadata": {},
   "source": [
    "**Lets look at the days of the week and weekend.  This shows how many rides on each day**"
   ]
  },
  {
   "cell_type": "markdown",
   "metadata": {},
   "source": [
    "**the dow_order will be a variable to be used for all plots for correct order of days of week**"
   ]
  },
  {
   "cell_type": "code",
   "execution_count": 27,
   "metadata": {},
   "outputs": [
    {
     "data": {
      "image/png": "[encoded data removed]",
      "text/plain": [
       "<Figure size 360x360 with 1 Axes>"
      ]
     },
     "metadata": {
      "needs_background": "light"
     },
     "output_type": "display_data"
    }
   ],
   "source": [
    "\n",
    "#create a countplot for days of week\n",
    "\n",
    "sb.catplot(x='dow',data=df_bike_copy,kind='count',color='g',order=dow_order)\n",
    "#display the plot\n",
    "plt.show()\n",
    "            "
   ]
  },
  {
   "cell_type": "markdown",
   "metadata": {},
   "source": [
    "**now lets see actual weekend rider vs. weekday riders**"
   ]
  },
  {
   "cell_type": "code",
   "execution_count": 28,
   "metadata": {},
   "outputs": [
    {
     "data": {
      "image/png": "[encoded data removed]",
      "text/plain": [
       "<Figure size 360x360 with 1 Axes>"
      ]
     },
     "metadata": {
      "needs_background": "light"
     },
     "output_type": "display_data"
    }
   ],
   "source": [
    "\n",
    "#countplot to compare\n",
    "sb.catplot(x='day',data=df_bike_copy,kind='count',color='m')\n",
    "\n",
    "#display plot\n",
    "plt.show()\n"
   ]
  },
  {
   "cell_type": "markdown",
   "metadata": {},
   "source": [
    "**lets examine user_type abd rental_access with countplots as well**"
   ]
  },
  {
   "cell_type": "code",
   "execution_count": 29,
   "metadata": {},
   "outputs": [
    {
     "data": {
      "image/png": "[encoded data removed]",
      "text/plain": [
       "<Figure size 360x360 with 1 Axes>"
      ]
     },
     "metadata": {
      "needs_background": "light"
     },
     "output_type": "display_data"
    }
   ],
   "source": [
    "#countplot for user_types\n",
    "sb.catplot(x='user_type',data=df_bike_copy,kind='count',color='b')\n",
    "plt.show()"
   ]
  },
  {
   "cell_type": "code",
   "execution_count": 30,
   "metadata": {},
   "outputs": [
    {
     "data": {
      "image/png": "[encoded data removed]",
      "text/plain": [
       "<Figure size 360x360 with 1 Axes>"
      ]
     },
     "metadata": {
      "needs_background": "light"
     },
     "output_type": "display_data"
    }
   ],
   "source": [
    "sb.catplot(x='rental_access_method',data=df_bike_copy,kind='count',color='r')\n",
    "plt.show()"
   ]
  },
  {
   "cell_type": "code",
   "execution_count": null,
   "metadata": {},
   "outputs": [],
   "source": []
  },
  {
   "cell_type": "markdown",
   "metadata": {},
   "source": [
    "## Findings for length of rides based on minutes and hours.\n",
    "\n",
    "**The distibution is skewed ot the right signifying the mean is greater than the median which it is as shown above in the plot.  In addition we can see the average ride is about 14 minutes while the middle more occurring number is between 8-10 minutes.  As far the hour riders  the mean is about 3 hours while the majority of riders is approximately between 1 and 2 hours.\n",
    "<br> It will be interesting to compare length of rides for days of week**\n",
    "\n",
    "\n",
    "###  Any unusual distributions? Operations on the data to tidy, adjust, or change the form of the data.\n",
    "\n",
    "**I decided to breakdown the duration in seconds to minutes and hours(still in minute, so >=60).  This will give a cleaner look at the data to see length of ride for most riders.  There were some outliers in the hours column and this could be for a number of reasons. Longer rentals, forgot to turn in, etc... As expected in the minutes column the average ride was around 10 minutes.  THis could be people commuting to work for example.  \n",
    "<br>In addition, I changed the date/time to a date/timestamp inorder to access day of week. Right off the bat I am surprised that the number of weekend riders is the lowest(about 25,000 weekend riders compared to 125,000 weekday riders) and that Monday and TUesday had the greatest number of drivers. Also, it appears that customers(those who just rent) and subscribers(those who are members are farily equal.  It will be interesting to see whose rides are longer.  The rental access method.  Seems that not many people are using the local clipper card.  Why so many Not Available?(possibly not collecting  that data or it could be optional).  Still interested to see the length of rides and days comparing the app users to the clipper**"
   ]
  },
  {
   "cell_type": "markdown",
   "metadata": {},
   "source": [
    "## Bivariate Exploration\n",
    "\n",
    "### Lets see the relationships between the day of week and the length of rides for riders that rode less than 1 hour and over 1 hour.  Also, I would like to see how the length of time compares for customers vs. subscribers as well as app users vs clipper users when renting their bike. In addition, I am looking at the number rider who rode more than 60 minutes compares with those who rode less than 60 minutes"
   ]
  },
  {
   "cell_type": "markdown",
   "metadata": {},
   "source": [
    "**less than 60 minutes  vs.  greater than 60 minutes.   What a difference - There are 148,442 riders that rode for less\n",
    "than 60 minutes compared with 1,373 riders who rode for more than 60 minutes.**"
   ]
  },
  {
   "cell_type": "code",
   "execution_count": 31,
   "metadata": {},
   "outputs": [
    {
     "data": {
      "text/plain": [
       "<60 Mins    148442\n",
       ">60 Mins      1373\n",
       "Name: ride_time, dtype: int64"
      ]
     },
     "execution_count": 31,
     "metadata": {},
     "output_type": "execute_result"
    }
   ],
   "source": [
    "#get the counts\n",
    "df_bike_copy['ride_time'].value_counts()"
   ]
  },
  {
   "cell_type": "code",
   "execution_count": 32,
   "metadata": {},
   "outputs": [
    {
     "data": {
      "image/png": "[encoded data removed]",
      "text/plain": [
       "<Figure size 360x360 with 1 Axes>"
      ]
     },
     "metadata": {
      "needs_background": "light"
     },
     "output_type": "display_data"
    }
   ],
   "source": [
    "#create the countplot to compare >60 minute riders to <60 minute riders\n",
    "sb.catplot(x='ride_time',data=df_bike_copy,kind='count')\n",
    "plt.show()\n",
    "\n",
    "\n"
   ]
  },
  {
   "cell_type": "markdown",
   "metadata": {},
   "source": [
    "**a boxplot to show spread of riders who rode <60 minutes**"
   ]
  },
  {
   "cell_type": "code",
   "execution_count": 33,
   "metadata": {},
   "outputs": [
    {
     "data": {
      "image/png": "[encoded data removed]",
      "text/plain": [
       "<Figure size 360x360 with 1 Axes>"
      ]
     },
     "metadata": {
      "needs_background": "light"
     },
     "output_type": "display_data"
    }
   ],
   "source": [
    "#create a boxplot to show time vs. day of week for riders riding less than 1 hour\n",
    "#dow_order was created above and will reuse here\n",
    "\n",
    "\n",
    "#removing outliers with sym as the majority of riders are less than 30 minutes\n",
    "\n",
    "sb.catplot(x='dow',y='duration_less60_mins',data=df_mins,kind='box',order=dow_order,sym='')\n",
    "\n",
    "#display plot\n",
    "plt.show()"
   ]
  },
  {
   "cell_type": "markdown",
   "metadata": {},
   "source": [
    "**a boxplot to show spread of riders with >60 minutes for each day**"
   ]
  },
  {
   "cell_type": "code",
   "execution_count": 34,
   "metadata": {},
   "outputs": [
    {
     "data": {
      "image/png": "[encoded data removed]",
      "text/plain": [
       "<Figure size 360x360 with 1 Axes>"
      ]
     },
     "metadata": {
      "needs_background": "light"
     },
     "output_type": "display_data"
    }
   ],
   "source": [
    "#create a boxplot to show time vs. day of week for riders riding more than 1 hour\n",
    "#dow_order was created above and will reuse here\n",
    "\n",
    "#getting rid of hours that are greate than 10 as my analysis is daily rides and the outliers are not reasonable as\n",
    "#they could have been people that just held onto bike.  10 hours can possibly be a day ride.\n",
    "\n",
    "\n",
    "sb.catplot(x='dow',y='duration_greater60_mins',data=df_hours,kind='box',order=dow_order,sym='')\n",
    "\n",
    "#display plot\n",
    "plt.show()"
   ]
  },
  {
   "cell_type": "markdown",
   "metadata": {},
   "source": [
    "**compare the duration of rides between customers and subscribers with a pointplot**"
   ]
  },
  {
   "cell_type": "code",
   "execution_count": 35,
   "metadata": {},
   "outputs": [
    {
     "data": {
      "image/png": "[encoded data removed]",
      "text/plain": [
       "<Figure size 360x360 with 1 Axes>"
      ]
     },
     "metadata": {
      "needs_background": "light"
     },
     "output_type": "display_data"
    }
   ],
   "source": [
    "#create a point plot for duration in minutes\n",
    "sb.catplot(x='user_type',y='duration_less60_mins',data=df_mins,kind='point',ci=None)\n",
    "\n",
    "#display\n",
    "plt.show()"
   ]
  },
  {
   "cell_type": "markdown",
   "metadata": {},
   "source": [
    "**compare riders who rode >60 minutes using a pointplot. **"
   ]
  },
  {
   "cell_type": "code",
   "execution_count": 36,
   "metadata": {},
   "outputs": [
    {
     "data": {
      "image/png": "[encoded data removed]",
      "text/plain": [
       "<Figure size 360x360 with 1 Axes>"
      ]
     },
     "metadata": {
      "needs_background": "light"
     },
     "output_type": "display_data"
    }
   ],
   "source": [
    "#create point plot for duration in hours\n",
    "sb.catplot(x='user_type',y='duration_greater60_mins',data=df_hours,kind='point',ci=None)\n",
    "\n",
    "#display\n",
    "plt.show()"
   ]
  },
  {
   "cell_type": "markdown",
   "metadata": {},
   "source": [
    "**compare the rental_access_method -  an app vs clipper vs Not Available - bay wheels only marked the app and clipper in their rental_access, however, after further research they have kiosks as their third rental type, so I believe these are one time rides using a debit/credit card**"
   ]
  },
  {
   "cell_type": "markdown",
   "metadata": {},
   "source": [
    "**riders who rode <60 minutes**"
   ]
  },
  {
   "cell_type": "code",
   "execution_count": 37,
   "metadata": {},
   "outputs": [
    {
     "data": {
      "image/png": "[encoded data removed]",
      "text/plain": [
       "<Figure size 360x360 with 1 Axes>"
      ]
     },
     "metadata": {
      "needs_background": "light"
     },
     "output_type": "display_data"
    }
   ],
   "source": [
    "#create a bar plot for the mean in minutes\n",
    "sb.catplot(x='rental_access_method',y='duration_less60_mins',data=df_mins,ci=None,kind='bar')\n",
    "\n",
    "#display\n",
    "plt.show()"
   ]
  },
  {
   "cell_type": "markdown",
   "metadata": {},
   "source": [
    "**riders who rode > 60 minutes**"
   ]
  },
  {
   "cell_type": "code",
   "execution_count": 38,
   "metadata": {},
   "outputs": [
    {
     "data": {
      "image/png": "[encoded data removed]",
      "text/plain": [
       "<Figure size 360x360 with 1 Axes>"
      ]
     },
     "metadata": {
      "needs_background": "light"
     },
     "output_type": "display_data"
    }
   ],
   "source": [
    "#create bar plot showing mean rides in hours for rental_access_method\n",
    "#using the frame time created above, again this  is hours > 0 and less than 11\n",
    "sb.catplot(x='rental_access_method',y='duration_greater60_mins',data=df_hours,ci=None,kind='bar')\n",
    "\n",
    "#display\n",
    "plt.show()"
   ]
  },
  {
   "cell_type": "markdown",
   "metadata": {},
   "source": [
    "###  Relationships  observed in this part of the investigation. Did features of interest vary?\n",
    "\n",
    "**As expected the weekend had the longest rides as long as the ride was less than 1 hour.  THe weekend also had the biggest spread.  On longer rides (greater or equal to 1 hour)  monday, tuesday, thursday and saturday were about the same with the 75th percentil being 2 hours.  Wed, friday and sunday only had 1 hour rides with a few outliers ofcourse.  Very surprised that the weekend didn't have longer rides , especially sunday with the most rides being 1 hour which was the median for all the days.**\n",
    "\n",
    "###  Interesting relationships between the other features \n",
    "\n",
    "**I was very surprised with the difference in duration of rides between customers and subscribers.  Customers rode longer and I thought it would have been the opposite. Note:  It appears one needs an app (lyft or bay wheels) or a clipper card to take out a bike.  After further research it appears there are kiosks around town and one can use a debit/credit card.  These are the only three ways to rent a bike according to their website\n",
    "<br>It appears tha average minutes are higher for people checking out with an app as opposed to the local clipper card. On longer rides clipper and app are about the same with what I beleive to be kiosk rentals are highest**"
   ]
  },
  {
   "cell_type": "markdown",
   "metadata": {},
   "source": [
    "## Multivariate Exploration\n",
    "\n",
    "**compare the days of week with duration and if user is a customer or a subsciber.  In addition, I will compare the dow, duration and the rental_access_method**"
   ]
  },
  {
   "cell_type": "code",
   "execution_count": 39,
   "metadata": {},
   "outputs": [
    {
     "data": {
      "image/png": "[encoded data removed]",
      "text/plain": [
       "<Figure size 720x360 with 2 Axes>"
      ]
     },
     "metadata": {
      "needs_background": "light"
     },
     "output_type": "display_data"
    }
   ],
   "source": [
    "#create a barchart for each user - customer and subscriber\n",
    "#using dow_order created above for correct order of days\n",
    "g=sb.catplot(x='dow',y='duration_less60_mins',data=df_mins,kind='bar',\n",
    "             ci=None,order=dow_order,col='user_type',color='g')\n",
    "#title and axis labels\n",
    "g.fig.suptitle(\"Duration of rides for customers and subscribers\",y=1.02)\n",
    "g.set(xlabel=\"Day of Week\",\n",
    "      ylabel=\"Duration ( in minutes)\")\n",
    "\n",
    "#rotate the days of week to fit better\n",
    "g.set_xticklabels(rotation=45)\n",
    "#display\n",
    "plt.show()\n"
   ]
  },
  {
   "cell_type": "markdown",
   "metadata": {},
   "source": [
    "**comparing subscribers and customers in hours ride time**"
   ]
  },
  {
   "cell_type": "code",
   "execution_count": 40,
   "metadata": {},
   "outputs": [
    {
     "data": {
      "image/png": "[encoded data removed]",
      "text/plain": [
       "<Figure size 720x360 with 2 Axes>"
      ]
     },
     "metadata": {
      "needs_background": "light"
     },
     "output_type": "display_data"
    }
   ],
   "source": [
    "#create a barchart for each user - customer and subscriber for hours\n",
    "#using dow_order created above for correct order of days and the time frame for hours > 0 and less than 11\n",
    "g=sb.catplot(x='dow',y='duration_greater60_mins',data=df_hours,kind='bar',\n",
    "             ci=None,order=dow_order,col='user_type',color='b')\n",
    "#title and axis labels\n",
    "g.fig.suptitle(\"Duration of rides for customers and subscribers\",y=1.02)\n",
    "g.set(xlabel=\"Day of Week\",\n",
    "      ylabel=\"Duration ( >60 minutes)\")\n",
    "\n",
    "#rotate the days of week to fit better\n",
    "g.set_xticklabels(rotation=45)\n",
    "#display\n",
    "plt.show()\n"
   ]
  },
  {
   "cell_type": "markdown",
   "metadata": {},
   "source": [
    "**a clustered bar chart comparing customer vs subscriber rides for <60 minutes**"
   ]
  },
  {
   "cell_type": "code",
   "execution_count": 41,
   "metadata": {},
   "outputs": [
    {
     "data": {
      "image/png": "[encoded data removed]",
      "text/plain": [
       "<Figure size 458.6x360 with 1 Axes>"
      ]
     },
     "metadata": {
      "needs_background": "light"
     },
     "output_type": "display_data"
    }
   ],
   "source": [
    "\n",
    "sb.catplot(x='dow',y='duration_less60_mins',data=df_mins,kind='bar',order=dow_order,ci=None,hue='user_type')\n",
    "plt.show();"
   ]
  },
  {
   "cell_type": "markdown",
   "metadata": {},
   "source": [
    "**clustered bar chart comparing customers vs. subscribers for riders >60 minutes and as expected longer rides are on the weekends for riders who ride >60 minutes**"
   ]
  },
  {
   "cell_type": "code",
   "execution_count": 42,
   "metadata": {},
   "outputs": [
    {
     "data": {
      "image/png": "[encoded data removed]",
      "text/plain": [
       "<Figure size 458.6x360 with 1 Axes>"
      ]
     },
     "metadata": {
      "needs_background": "light"
     },
     "output_type": "display_data"
    }
   ],
   "source": [
    "#lets see what hours duration looks like between customers and subscribers\n",
    "sb.catplot(x='dow',y='duration_greater60_mins',data=df_hours,kind='bar',order=dow_order,ci=None,hue='user_type')\n",
    "#display\n",
    "plt.show()"
   ]
  },
  {
   "cell_type": "markdown",
   "metadata": {},
   "source": [
    "**clustered bar chart for rental_access for rides in minutes**"
   ]
  },
  {
   "cell_type": "code",
   "execution_count": 43,
   "metadata": {},
   "outputs": [
    {
     "data": {
      "image/png": "[encoded data removed]",
      "text/plain": [
       "<Figure size 482.8x360 with 1 Axes>"
      ]
     },
     "metadata": {
      "needs_background": "light"
     },
     "output_type": "display_data"
    }
   ],
   "source": [
    "#create bar plot\n",
    "sb.catplot(x='dow',y='duration_less60_mins',data=df_mins,kind='bar',order=dow_order,ci=None,hue='rental_access_method')\n",
    "          \n",
    "\n",
    "#display\n",
    "plt.show()"
   ]
  },
  {
   "cell_type": "markdown",
   "metadata": {},
   "source": [
    "**clustered bar chart for rental_access in hours**"
   ]
  },
  {
   "cell_type": "code",
   "execution_count": 44,
   "metadata": {},
   "outputs": [
    {
     "data": {
      "image/png": "[encoded data removed]",
      "text/plain": [
       "<Figure size 482.8x360 with 1 Axes>"
      ]
     },
     "metadata": {
      "needs_background": "light"
     },
     "output_type": "display_data"
    }
   ],
   "source": [
    "#create grouped barplot\n",
    "sb.catplot(x='dow',y='duration_greater60_mins',data=df_hours,kind='bar',order=dow_order,ci=None,hue='rental_access_method')\n",
    "#display\n",
    "plt.show()"
   ]
  },
  {
   "cell_type": "markdown",
   "metadata": {},
   "source": [
    "### Relationships  observed in this part of the investigation. Any features that strengthened each other\n",
    "\n",
    "**On a whole, customers ride longer than subscibers.  As expected the longest rides on a whole is the weekend.  THere is big difference on rides > 60 minutes between subscribers and customers everyday but especially on the weekends. One possible reason is the customers can be tourists riding to explore the city.  The data set was in December indicating a large tourist month with the holidays.  Riders with the clipper card typically rode less than the other rental methods for <60 minute rides but did much better on longer rides , especially the weekends.**\n",
    "###  Any interesting or surprising interactions between features?\n",
    "\n",
    "**Very surprising that the riders with a clipper card had such long rides on the weekend. I would think if you like to ride distance you would have your own bike, while the share bikes are typically around town. I would think the local would make more use of the bike share system using the clipper card, but it doesn't seem that way.  Cost might be a factor here.  Or maybe, mostly tourists use the bike share. Why is Tuesday the longest ride of the week?  That stood out.  But, again, probably a tourist riding around, getting lunch, etc.  before docking the bike is a possible explanation.  Also, surprised customers are riding longer than subscribers as it costs an extra $3 for each 15 minutes after 30 minutes for customers and 45 minutes for subscribers.  Again, my guess is tourists**"
   ]
  },
  {
   "cell_type": "code",
   "execution_count": null,
   "metadata": {},
   "outputs": [],
   "source": []
  }
 ],
 "metadata": {
  "kernelspec": {
   "display_name": "Python 3",
   "language": "python",
   "name": "python3"
  },
  "language_info": {
   "codemirror_mode": {
    "name": "ipython",
    "version": 3
   },
   "file_extension": ".py",
   "mimetype": "text/x-python",
   "name": "python",
   "nbconvert_exporter": "python",
   "pygments_lexer": "ipython3",
   "version": "3.7.4"
  }
 },
 "nbformat": 4,
 "nbformat_minor": 2
}
